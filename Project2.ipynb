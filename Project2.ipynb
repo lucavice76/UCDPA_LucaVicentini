{
 "cells": [
  {
   "cell_type": "code",
   "execution_count": 2,
   "id": "5954d859",
   "metadata": {},
   "outputs": [
    {
     "data": {
      "text/plain": [
       "'this is some code'"
      ]
     },
     "execution_count": 2,
     "metadata": {},
     "output_type": "execute_result"
    }
   ],
   "source": [
    "\"this is some code\""
   ]
  },
  {
   "cell_type": "code",
   "execution_count": 1,
   "id": "a1acf469",
   "metadata": {},
   "outputs": [
    {
     "data": {
      "text/plain": [
       "'this is some more code'"
      ]
     },
     "execution_count": 1,
     "metadata": {},
     "output_type": "execute_result"
    }
   ],
   "source": [
    "\"this is some more code\""
   ]
  },
  {
   "cell_type": "code",
   "execution_count": null,
   "id": "bd327a42",
   "metadata": {},
   "outputs": [],
   "source": [
    "#Importing Pandas and a reading a file (CSV) into a Pandas Data Frame using the relative path"
   ]
  },
  {
   "cell_type": "code",
   "execution_count": 11,
   "id": "a8336c77",
   "metadata": {},
   "outputs": [],
   "source": [
    "import pandas as pd\n",
    "partner = pd.read_csv(\"export2Partner.csv\")"
   ]
  },
  {
   "cell_type": "code",
   "execution_count": null,
   "id": "4ac04d1d",
   "metadata": {},
   "outputs": [],
   "source": [
    "# Initial exploration of data in preparation of subsetting: I am interested in Partner ID and Country Code"
   ]
  },
  {
   "cell_type": "code",
   "execution_count": 12,
   "id": "bf4ddc8e",
   "metadata": {},
   "outputs": [
    {
     "data": {
      "text/html": [
       "<div>\n",
       "<style scoped>\n",
       "    .dataframe tbody tr th:only-of-type {\n",
       "        vertical-align: middle;\n",
       "    }\n",
       "\n",
       "    .dataframe tbody tr th {\n",
       "        vertical-align: top;\n",
       "    }\n",
       "\n",
       "    .dataframe thead th {\n",
       "        text-align: right;\n",
       "    }\n",
       "</style>\n",
       "<table border=\"1\" class=\"dataframe\">\n",
       "  <thead>\n",
       "    <tr style=\"text-align: right;\">\n",
       "      <th></th>\n",
       "      <th>PARTNER_ID</th>\n",
       "      <th>STICHTAG</th>\n",
       "      <th>MANDANT</th>\n",
       "      <th>STICHTAG_MANDANT_LAUF</th>\n",
       "      <th>SL_ABWEICH_LAENDERRISIKOLAND</th>\n",
       "      <th>SL_POLITISCHES_SITZLAND</th>\n",
       "      <th>SL_RECHTLICHES_LAND</th>\n",
       "      <th>PARTNERART</th>\n",
       "      <th>KZ_MANDANTENINTERNER_PARTNER</th>\n",
       "      <th>SL_RECHTSFORM</th>\n",
       "      <th>...</th>\n",
       "      <th>KZ_SME_THRESHOLD_NOT_EXC_STA</th>\n",
       "      <th>SL_CVA_COUNTERPARTY_CLASS</th>\n",
       "      <th>KZ_ELIGIBLE_SETTING_MATUR_1_Y</th>\n",
       "      <th>DAT_LEGAL_PROC_INIT</th>\n",
       "      <th>SL_ENTERPRISE_SIZE</th>\n",
       "      <th>SL_STATUS_LEGAL_PROC</th>\n",
       "      <th>SL_INTRAGROUP_EXPOSURE_CRR_113</th>\n",
       "      <th>SL_LEGAL_FORM_ECB</th>\n",
       "      <th>SL_TYPE_OF_ENTITY</th>\n",
       "      <th>KZ_GOVERNMENT_SUPPORT</th>\n",
       "    </tr>\n",
       "  </thead>\n",
       "  <tbody>\n",
       "    <tr>\n",
       "      <th>0</th>\n",
       "      <td>24045513</td>\n",
       "      <td>30-JUN-21</td>\n",
       "      <td>2200</td>\n",
       "      <td>21063002200A</td>\n",
       "      <td>XXX</td>\n",
       "      <td>IE</td>\n",
       "      <td>7</td>\n",
       "      <td>XX</td>\n",
       "      <td>N</td>\n",
       "      <td>XXX</td>\n",
       "      <td>...</td>\n",
       "      <td>N</td>\n",
       "      <td>XXX</td>\n",
       "      <td>N</td>\n",
       "      <td>01-JAN-00</td>\n",
       "      <td>L</td>\n",
       "      <td>N</td>\n",
       "      <td>X</td>\n",
       "      <td>XXXXXX</td>\n",
       "      <td>XX</td>\n",
       "      <td>NaN</td>\n",
       "    </tr>\n",
       "    <tr>\n",
       "      <th>1</th>\n",
       "      <td>24038001</td>\n",
       "      <td>30-JUN-21</td>\n",
       "      <td>2200</td>\n",
       "      <td>21063002200A</td>\n",
       "      <td>XXX</td>\n",
       "      <td>BE</td>\n",
       "      <td>17</td>\n",
       "      <td>XX</td>\n",
       "      <td>N</td>\n",
       "      <td>XXX</td>\n",
       "      <td>...</td>\n",
       "      <td>N</td>\n",
       "      <td>XXX</td>\n",
       "      <td>N</td>\n",
       "      <td>01-JAN-00</td>\n",
       "      <td>L</td>\n",
       "      <td>N</td>\n",
       "      <td>X</td>\n",
       "      <td>XXXXXX</td>\n",
       "      <td>XX</td>\n",
       "      <td>NaN</td>\n",
       "    </tr>\n",
       "    <tr>\n",
       "      <th>2</th>\n",
       "      <td>24053273</td>\n",
       "      <td>30-JUN-21</td>\n",
       "      <td>2200</td>\n",
       "      <td>21063002200A</td>\n",
       "      <td>XXX</td>\n",
       "      <td>XIO</td>\n",
       "      <td>912</td>\n",
       "      <td>XX</td>\n",
       "      <td>N</td>\n",
       "      <td>XXX</td>\n",
       "      <td>...</td>\n",
       "      <td>N</td>\n",
       "      <td>XXX</td>\n",
       "      <td>N</td>\n",
       "      <td>01-JAN-00</td>\n",
       "      <td>L</td>\n",
       "      <td>N</td>\n",
       "      <td>X</td>\n",
       "      <td>XXXXXX</td>\n",
       "      <td>XX</td>\n",
       "      <td>NaN</td>\n",
       "    </tr>\n",
       "    <tr>\n",
       "      <th>3</th>\n",
       "      <td>87010403</td>\n",
       "      <td>30-JUN-21</td>\n",
       "      <td>2200</td>\n",
       "      <td>21063002200A</td>\n",
       "      <td>XXX</td>\n",
       "      <td>DE</td>\n",
       "      <td>39</td>\n",
       "      <td>XX</td>\n",
       "      <td>N</td>\n",
       "      <td>XXX</td>\n",
       "      <td>...</td>\n",
       "      <td>N</td>\n",
       "      <td>XXX</td>\n",
       "      <td>N</td>\n",
       "      <td>01-JAN-00</td>\n",
       "      <td>L</td>\n",
       "      <td>N</td>\n",
       "      <td>X</td>\n",
       "      <td>XXXXXX</td>\n",
       "      <td>XX</td>\n",
       "      <td>NaN</td>\n",
       "    </tr>\n",
       "    <tr>\n",
       "      <th>4</th>\n",
       "      <td>23670755</td>\n",
       "      <td>30-JUN-21</td>\n",
       "      <td>2200</td>\n",
       "      <td>21063002200A</td>\n",
       "      <td>XXX</td>\n",
       "      <td>NL</td>\n",
       "      <td>3</td>\n",
       "      <td>XX</td>\n",
       "      <td>N</td>\n",
       "      <td>XXX</td>\n",
       "      <td>...</td>\n",
       "      <td>N</td>\n",
       "      <td>XXX</td>\n",
       "      <td>N</td>\n",
       "      <td>01-JAN-00</td>\n",
       "      <td>L</td>\n",
       "      <td>N</td>\n",
       "      <td>X</td>\n",
       "      <td>XXXXXX</td>\n",
       "      <td>XX</td>\n",
       "      <td>NaN</td>\n",
       "    </tr>\n",
       "  </tbody>\n",
       "</table>\n",
       "<p>5 rows × 82 columns</p>\n",
       "</div>"
      ],
      "text/plain": [
       "   PARTNER_ID   STICHTAG  MANDANT STICHTAG_MANDANT_LAUF  \\\n",
       "0    24045513  30-JUN-21     2200          21063002200A   \n",
       "1    24038001  30-JUN-21     2200          21063002200A   \n",
       "2    24053273  30-JUN-21     2200          21063002200A   \n",
       "3    87010403  30-JUN-21     2200          21063002200A   \n",
       "4    23670755  30-JUN-21     2200          21063002200A   \n",
       "\n",
       "  SL_ABWEICH_LAENDERRISIKOLAND SL_POLITISCHES_SITZLAND  SL_RECHTLICHES_LAND  \\\n",
       "0                          XXX                     IE                     7   \n",
       "1                          XXX                     BE                    17   \n",
       "2                          XXX                     XIO                  912   \n",
       "3                          XXX                     DE                    39   \n",
       "4                          XXX                     NL                     3   \n",
       "\n",
       "  PARTNERART KZ_MANDANTENINTERNER_PARTNER SL_RECHTSFORM  ...  \\\n",
       "0         XX                            N           XXX  ...   \n",
       "1         XX                            N           XXX  ...   \n",
       "2         XX                            N           XXX  ...   \n",
       "3         XX                            N           XXX  ...   \n",
       "4         XX                            N           XXX  ...   \n",
       "\n",
       "  KZ_SME_THRESHOLD_NOT_EXC_STA SL_CVA_COUNTERPARTY_CLASS  \\\n",
       "0                            N                       XXX   \n",
       "1                            N                       XXX   \n",
       "2                            N                       XXX   \n",
       "3                            N                       XXX   \n",
       "4                            N                       XXX   \n",
       "\n",
       "  KZ_ELIGIBLE_SETTING_MATUR_1_Y DAT_LEGAL_PROC_INIT SL_ENTERPRISE_SIZE  \\\n",
       "0                             N           01-JAN-00                  L   \n",
       "1                             N           01-JAN-00                  L   \n",
       "2                             N           01-JAN-00                  L   \n",
       "3                             N           01-JAN-00                  L   \n",
       "4                             N           01-JAN-00                  L   \n",
       "\n",
       "  SL_STATUS_LEGAL_PROC SL_INTRAGROUP_EXPOSURE_CRR_113 SL_LEGAL_FORM_ECB  \\\n",
       "0                    N                              X            XXXXXX   \n",
       "1                    N                              X            XXXXXX   \n",
       "2                    N                              X            XXXXXX   \n",
       "3                    N                              X            XXXXXX   \n",
       "4                    N                              X            XXXXXX   \n",
       "\n",
       "  SL_TYPE_OF_ENTITY KZ_GOVERNMENT_SUPPORT  \n",
       "0                XX                   NaN  \n",
       "1                XX                   NaN  \n",
       "2                XX                   NaN  \n",
       "3                XX                   NaN  \n",
       "4                XX                   NaN  \n",
       "\n",
       "[5 rows x 82 columns]"
      ]
     },
     "execution_count": 12,
     "metadata": {},
     "output_type": "execute_result"
    }
   ],
   "source": [
    "partner.head()"
   ]
  },
  {
   "cell_type": "code",
   "execution_count": 18,
   "id": "d6f0c4d7",
   "metadata": {},
   "outputs": [
    {
     "data": {
      "text/plain": [
       "(76, 82)"
      ]
     },
     "execution_count": 18,
     "metadata": {},
     "output_type": "execute_result"
    }
   ],
   "source": [
    "partner.shape"
   ]
  },
  {
   "cell_type": "code",
   "execution_count": 19,
   "id": "f230affa",
   "metadata": {},
   "outputs": [
    {
     "data": {
      "text/plain": [
       "Index(['PARTNER_ID', 'STICHTAG', 'MANDANT', 'STICHTAG_MANDANT_LAUF',\n",
       "       'SL_ABWEICH_LAENDERRISIKOLAND', 'SL_POLITISCHES_SITZLAND',\n",
       "       'SL_RECHTLICHES_LAND', 'PARTNERART', 'KZ_MANDANTENINTERNER_PARTNER',\n",
       "       'SL_RECHTSFORM', 'SL_ORGANBEZIEHUNG', 'SL_SONDERPARTNER_GS1',\n",
       "       'SL_TEILPORTFOLIO_STA', 'SL_TEILPORTFOLIO_IRB', 'DAT_GEBURT',\n",
       "       'SL_LEISTUNGSSTATUS', 'KZ_15_TAGE_WAHLRECHT', 'KZ_ANONYMISIERUNG',\n",
       "       'KZ_PRIVILEGIERTE_INSTITUTION', 'KZ_HANDWERKER', 'KZ_SPV',\n",
       "       'KZ_BEAUF_INVESTMENTF_PENSIONSK', 'PARTNERNAME', 'PARTNERVORNAME',\n",
       "       'PARTNERNACHNAME', 'SITZ_ORT', 'SITZ_POSTLEITZAHL', 'SITZ_STRASSE',\n",
       "       'GEBURTSORT', 'TITEL', 'SL_HINWEIS', 'REPORTINGINFORMATION',\n",
       "       'JAHRESEINKOMMEN', 'SL_PARTNERKLASSE_INTERN',\n",
       "       'KZ_LEISTUNGSSTATUS_AUTOMATISCH', 'SL_UNTERNEHMENSART_AUFSICHTSR',\n",
       "       'KZ_LANGFRISTIGE_KUNDENBEZ', 'KZ_HEDGEFONDS',\n",
       "       'KZ_UNMITTELBARE_AUSFALLERKENN', 'SL_GEWERBE',\n",
       "       'KZ_SCHULDNERUEBERWACHUNG', 'LIEFERSYSTEM_ID',\n",
       "       'KZ_INTERBANKENMARKTSPEZIALIST', 'DAT_BEG_PARTNERBEZIEHUNG',\n",
       "       'SL_AUSFALLKLASSIFIKATION_BOI', 'DAT_AUSFALLKLASSIFIKATION_BOI',\n",
       "       'SL_ERSTE_AUSFALLKLASSIF_BOI', 'DAT_ERSTE_AUSFALLKLASSIF_BOI',\n",
       "       'SL_LEGAL_COUNTRY_ISO_3166_1_A2', 'KZ_SUPERVISED_INSURANCE_COMPAN',\n",
       "       'KZ_TREATMENT_AS_CENTRAL_GOV', 'KZ_DATA_PROTECTION_STATEMENT',\n",
       "       'SL_MANAGERIAL_CATEGORY', 'SL_CUSTOMER_SEGMENT', 'SL_DIVISION',\n",
       "       'SL_SEGMENT', 'SL_LARGENESS', 'SL_NACE', 'SL_STAATSANGEHOERIGKEIT',\n",
       "       'KZ_ESTABLISHED_RELATIONSHIP', 'KZ_ENHANCED_GROUPING_METHODS',\n",
       "       'KZ_PARAGRAPH_15_KWG', 'KZ_PARAGRAPH_18_KWG', 'SL_SIZE_CLASS',\n",
       "       'SL_FINANCIAL_ENTITY_REGULATION', 'SL_SPV_BUSINESS_AREA',\n",
       "       'SL_SPV_CATEGORY', 'SL_PARTNER_STATUS', 'DAT_CLEARING_THRESHOLD_EXC',\n",
       "       'KZ_PENSION_SCHEME_ARRANGEMENT', 'KZ_SME',\n",
       "       'KZ_SME_THRESHOLD_NOT_EXC_IRB', 'KZ_SME_THRESHOLD_NOT_EXC_STA',\n",
       "       'SL_CVA_COUNTERPARTY_CLASS', 'KZ_ELIGIBLE_SETTING_MATUR_1_Y',\n",
       "       'DAT_LEGAL_PROC_INIT', 'SL_ENTERPRISE_SIZE', 'SL_STATUS_LEGAL_PROC',\n",
       "       'SL_INTRAGROUP_EXPOSURE_CRR_113', 'SL_LEGAL_FORM_ECB',\n",
       "       'SL_TYPE_OF_ENTITY', 'KZ_GOVERNMENT_SUPPORT'],\n",
       "      dtype='object')"
      ]
     },
     "execution_count": 19,
     "metadata": {},
     "output_type": "execute_result"
    }
   ],
   "source": [
    "partner.columns"
   ]
  },
  {
   "cell_type": "code",
   "execution_count": 29,
   "id": "a470ea24",
   "metadata": {},
   "outputs": [
    {
     "data": {
      "text/html": [
       "<div>\n",
       "<style scoped>\n",
       "    .dataframe tbody tr th:only-of-type {\n",
       "        vertical-align: middle;\n",
       "    }\n",
       "\n",
       "    .dataframe tbody tr th {\n",
       "        vertical-align: top;\n",
       "    }\n",
       "\n",
       "    .dataframe thead th {\n",
       "        text-align: right;\n",
       "    }\n",
       "</style>\n",
       "<table border=\"1\" class=\"dataframe\">\n",
       "  <thead>\n",
       "    <tr style=\"text-align: right;\">\n",
       "      <th></th>\n",
       "      <th>PARTNER_ID</th>\n",
       "      <th>SL_POLITISCHES_SITZLAND</th>\n",
       "      <th>SL_LEGAL_COUNTRY_ISO_3166_1_A2</th>\n",
       "    </tr>\n",
       "  </thead>\n",
       "  <tbody>\n",
       "    <tr>\n",
       "      <th>0</th>\n",
       "      <td>24045513</td>\n",
       "      <td>IE</td>\n",
       "      <td>IE</td>\n",
       "    </tr>\n",
       "    <tr>\n",
       "      <th>1</th>\n",
       "      <td>24038001</td>\n",
       "      <td>BE</td>\n",
       "      <td>BE</td>\n",
       "    </tr>\n",
       "    <tr>\n",
       "      <th>2</th>\n",
       "      <td>24053273</td>\n",
       "      <td>XIO</td>\n",
       "      <td>LU</td>\n",
       "    </tr>\n",
       "    <tr>\n",
       "      <th>3</th>\n",
       "      <td>87010403</td>\n",
       "      <td>DE</td>\n",
       "      <td>CH</td>\n",
       "    </tr>\n",
       "    <tr>\n",
       "      <th>4</th>\n",
       "      <td>23670755</td>\n",
       "      <td>NL</td>\n",
       "      <td>NL</td>\n",
       "    </tr>\n",
       "  </tbody>\n",
       "</table>\n",
       "</div>"
      ],
      "text/plain": [
       "   PARTNER_ID SL_POLITISCHES_SITZLAND SL_LEGAL_COUNTRY_ISO_3166_1_A2\n",
       "0    24045513                     IE                              IE\n",
       "1    24038001                     BE                              BE\n",
       "2    24053273                     XIO                             LU\n",
       "3    87010403                     DE                              CH\n",
       "4    23670755                     NL                              NL"
      ]
     },
     "execution_count": 29,
     "metadata": {},
     "output_type": "execute_result"
    }
   ],
   "source": [
    "# After having identified the columns containing the country codes per counterparty, I create a subset\n",
    "# of the table partner called \"CPTY_Country_codes\". I will need this to merge it with GDP information\n",
    "# per country  during the COVID pandemic.\n",
    "CPTY_Country_codes = partner[[\"PARTNER_ID\", 'SL_POLITISCHES_SITZLAND', 'SL_LEGAL_COUNTRY_ISO_3166_1_A2']]\n",
    "CPTY_Country_codes.head()"
   ]
  },
  {
   "cell_type": "code",
   "execution_count": 30,
   "id": "db703192",
   "metadata": {},
   "outputs": [
    {
     "data": {
      "text/plain": [
       "(76, 3)"
      ]
     },
     "execution_count": 30,
     "metadata": {},
     "output_type": "execute_result"
    }
   ],
   "source": [
    "CPTY_Country_codes.shape"
   ]
  }
 ],
 "metadata": {
  "kernelspec": {
   "display_name": "Python 3",
   "language": "python",
   "name": "python3"
  },
  "language_info": {
   "codemirror_mode": {
    "name": "ipython",
    "version": 3
   },
   "file_extension": ".py",
   "mimetype": "text/x-python",
   "name": "python",
   "nbconvert_exporter": "python",
   "pygments_lexer": "ipython3",
   "version": "3.8.8"
  }
 },
 "nbformat": 4,
 "nbformat_minor": 5
}
