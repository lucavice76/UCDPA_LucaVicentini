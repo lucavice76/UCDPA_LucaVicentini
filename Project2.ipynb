{
 "cells": [
  {
   "cell_type": "code",
   "execution_count": 2,
   "id": "5954d859",
   "metadata": {},
   "outputs": [
    {
     "data": {
      "text/plain": [
       "'this is some code'"
      ]
     },
     "execution_count": 2,
     "metadata": {},
     "output_type": "execute_result"
    }
   ],
   "source": [
    "\"this is some code\""
   ]
  },
  {
   "cell_type": "code",
   "execution_count": 2,
   "id": "a1acf469",
   "metadata": {},
   "outputs": [
    {
     "data": {
      "text/html": [
       "<div>\n",
       "<style scoped>\n",
       "    .dataframe tbody tr th:only-of-type {\n",
       "        vertical-align: middle;\n",
       "    }\n",
       "\n",
       "    .dataframe tbody tr th {\n",
       "        vertical-align: top;\n",
       "    }\n",
       "\n",
       "    .dataframe thead th {\n",
       "        text-align: right;\n",
       "    }\n",
       "</style>\n",
       "<table border=\"1\" class=\"dataframe\">\n",
       "  <thead>\n",
       "    <tr style=\"text-align: right;\">\n",
       "      <th></th>\n",
       "      <th>STICHTAG_MANDANT_LAUF_RECHT_AN</th>\n",
       "      <th>REPORTING_DATE</th>\n",
       "      <th>CLIENT</th>\n",
       "      <th>KEY_RUN</th>\n",
       "      <th>KEY_REPORTING_REGULATION</th>\n",
       "      <th>TRANSACTION_ID</th>\n",
       "      <th>KEY_TRANSACTION_CAT</th>\n",
       "      <th>GROUP_CONS_COMPANIES_ID</th>\n",
       "      <th>KEY_SECURITISATION_VIEW</th>\n",
       "      <th>KEY_PRIMARY_RISK_PARTNER</th>\n",
       "      <th>...</th>\n",
       "      <th>LGD_PR_UNCOL_IFRS_Y2</th>\n",
       "      <th>LGD_PR_UNCOL_IFRS_Y3</th>\n",
       "      <th>ASSET_CLASS_TRANSACTION_IRB</th>\n",
       "      <th>IME_TRANS_CLUSTER_ID</th>\n",
       "      <th>THRESHOLD_PD_ADJUSTED</th>\n",
       "      <th>FLAG_PRIVATI_LIKE</th>\n",
       "      <th>SCONF_NO_FIDO</th>\n",
       "      <th>SEGMENTO_INTERNO</th>\n",
       "      <th>CALIB_DRIVER</th>\n",
       "      <th>CLB_DRIVER_PRE_WS</th>\n",
       "    </tr>\n",
       "  </thead>\n",
       "  <tbody>\n",
       "    <tr>\n",
       "      <th>0</th>\n",
       "      <td>19093002200AIFRSRCI</td>\n",
       "      <td>30-SEP-19</td>\n",
       "      <td>2200</td>\n",
       "      <td>57</td>\n",
       "      <td>IFRS</td>\n",
       "      <td>24036126_REPO</td>\n",
       "      <td>R</td>\n",
       "      <td></td>\n",
       "      <td>B</td>\n",
       "      <td>P</td>\n",
       "      <td>...</td>\n",
       "      <td>0.0</td>\n",
       "      <td>0.0</td>\n",
       "      <td>BS</td>\n",
       "      <td>24036126_REPO_R</td>\n",
       "      <td>NaN</td>\n",
       "      <td>NaN</td>\n",
       "      <td>NaN</td>\n",
       "      <td>NaN</td>\n",
       "      <td>NaN</td>\n",
       "      <td>NaN</td>\n",
       "    </tr>\n",
       "    <tr>\n",
       "      <th>1</th>\n",
       "      <td>19093002200AIFRSRCI</td>\n",
       "      <td>30-SEP-19</td>\n",
       "      <td>2200</td>\n",
       "      <td>57</td>\n",
       "      <td>IFRS</td>\n",
       "      <td>24037558_REPO</td>\n",
       "      <td>R</td>\n",
       "      <td></td>\n",
       "      <td>B</td>\n",
       "      <td>P</td>\n",
       "      <td>...</td>\n",
       "      <td>0.0</td>\n",
       "      <td>0.0</td>\n",
       "      <td>BA</td>\n",
       "      <td>24037558_REPO_R</td>\n",
       "      <td>NaN</td>\n",
       "      <td>NaN</td>\n",
       "      <td>NaN</td>\n",
       "      <td>NaN</td>\n",
       "      <td>NaN</td>\n",
       "      <td>NaN</td>\n",
       "    </tr>\n",
       "    <tr>\n",
       "      <th>2</th>\n",
       "      <td>19093002200AIFRSRCI</td>\n",
       "      <td>30-SEP-19</td>\n",
       "      <td>2200</td>\n",
       "      <td>57</td>\n",
       "      <td>IFRS</td>\n",
       "      <td>24038130_REPO</td>\n",
       "      <td>R</td>\n",
       "      <td></td>\n",
       "      <td>B</td>\n",
       "      <td>P</td>\n",
       "      <td>...</td>\n",
       "      <td>0.0</td>\n",
       "      <td>0.0</td>\n",
       "      <td>BS</td>\n",
       "      <td>24038130_REPO_R</td>\n",
       "      <td>NaN</td>\n",
       "      <td>NaN</td>\n",
       "      <td>NaN</td>\n",
       "      <td>NaN</td>\n",
       "      <td>NaN</td>\n",
       "      <td>NaN</td>\n",
       "    </tr>\n",
       "    <tr>\n",
       "      <th>3</th>\n",
       "      <td>19093002200AIFRSRCI</td>\n",
       "      <td>30-SEP-19</td>\n",
       "      <td>2200</td>\n",
       "      <td>57</td>\n",
       "      <td>IFRS</td>\n",
       "      <td>24081965_REPO</td>\n",
       "      <td>R</td>\n",
       "      <td></td>\n",
       "      <td>B</td>\n",
       "      <td>P</td>\n",
       "      <td>...</td>\n",
       "      <td>0.0</td>\n",
       "      <td>0.0</td>\n",
       "      <td>BS</td>\n",
       "      <td>24081965_REPO_R</td>\n",
       "      <td>NaN</td>\n",
       "      <td>NaN</td>\n",
       "      <td>NaN</td>\n",
       "      <td>NaN</td>\n",
       "      <td>NaN</td>\n",
       "      <td>NaN</td>\n",
       "    </tr>\n",
       "    <tr>\n",
       "      <th>4</th>\n",
       "      <td>19093002200AIFRSRCI</td>\n",
       "      <td>30-SEP-19</td>\n",
       "      <td>2200</td>\n",
       "      <td>57</td>\n",
       "      <td>IFRS</td>\n",
       "      <td>30374682_REPO</td>\n",
       "      <td>R</td>\n",
       "      <td></td>\n",
       "      <td>B</td>\n",
       "      <td>P</td>\n",
       "      <td>...</td>\n",
       "      <td>0.0</td>\n",
       "      <td>0.0</td>\n",
       "      <td>BA</td>\n",
       "      <td>30374682_REPO_R</td>\n",
       "      <td>NaN</td>\n",
       "      <td>NaN</td>\n",
       "      <td>NaN</td>\n",
       "      <td>NaN</td>\n",
       "      <td>NaN</td>\n",
       "      <td>NaN</td>\n",
       "    </tr>\n",
       "  </tbody>\n",
       "</table>\n",
       "<p>5 rows × 70 columns</p>\n",
       "</div>"
      ],
      "text/plain": [
       "  STICHTAG_MANDANT_LAUF_RECHT_AN REPORTING_DATE  CLIENT  KEY_RUN  \\\n",
       "0            19093002200AIFRSRCI      30-SEP-19    2200       57   \n",
       "1            19093002200AIFRSRCI      30-SEP-19    2200       57   \n",
       "2            19093002200AIFRSRCI      30-SEP-19    2200       57   \n",
       "3            19093002200AIFRSRCI      30-SEP-19    2200       57   \n",
       "4            19093002200AIFRSRCI      30-SEP-19    2200       57   \n",
       "\n",
       "  KEY_REPORTING_REGULATION TRANSACTION_ID KEY_TRANSACTION_CAT  \\\n",
       "0                     IFRS  24036126_REPO                   R   \n",
       "1                     IFRS  24037558_REPO                   R   \n",
       "2                     IFRS  24038130_REPO                   R   \n",
       "3                     IFRS  24081965_REPO                   R   \n",
       "4                     IFRS  30374682_REPO                   R   \n",
       "\n",
       "  GROUP_CONS_COMPANIES_ID KEY_SECURITISATION_VIEW KEY_PRIMARY_RISK_PARTNER  \\\n",
       "0                                               B                        P   \n",
       "1                                               B                        P   \n",
       "2                                               B                        P   \n",
       "3                                               B                        P   \n",
       "4                                               B                        P   \n",
       "\n",
       "   ...  LGD_PR_UNCOL_IFRS_Y2 LGD_PR_UNCOL_IFRS_Y3 ASSET_CLASS_TRANSACTION_IRB  \\\n",
       "0  ...                   0.0                  0.0                          BS   \n",
       "1  ...                   0.0                  0.0                          BA   \n",
       "2  ...                   0.0                  0.0                          BS   \n",
       "3  ...                   0.0                  0.0                          BS   \n",
       "4  ...                   0.0                  0.0                          BA   \n",
       "\n",
       "  IME_TRANS_CLUSTER_ID  THRESHOLD_PD_ADJUSTED FLAG_PRIVATI_LIKE  \\\n",
       "0      24036126_REPO_R                    NaN               NaN   \n",
       "1      24037558_REPO_R                    NaN               NaN   \n",
       "2      24038130_REPO_R                    NaN               NaN   \n",
       "3      24081965_REPO_R                    NaN               NaN   \n",
       "4      30374682_REPO_R                    NaN               NaN   \n",
       "\n",
       "   SCONF_NO_FIDO  SEGMENTO_INTERNO  CALIB_DRIVER  CLB_DRIVER_PRE_WS  \n",
       "0            NaN               NaN           NaN                NaN  \n",
       "1            NaN               NaN           NaN                NaN  \n",
       "2            NaN               NaN           NaN                NaN  \n",
       "3            NaN               NaN           NaN                NaN  \n",
       "4            NaN               NaN           NaN                NaN  \n",
       "\n",
       "[5 rows x 70 columns]"
      ]
     },
     "execution_count": 2,
     "metadata": {},
     "output_type": "execute_result"
    }
   ],
   "source": [
    "# IMPORT MAIN DATASET\n",
    "import pandas as pd\n",
    "ECL = pd.read_csv(\"export1.csv\")\n",
    "ECL.head()"
   ]
  },
  {
   "cell_type": "code",
   "execution_count": 3,
   "id": "2bb3c879",
   "metadata": {},
   "outputs": [
    {
     "data": {
      "text/plain": [
       "(1593, 70)"
      ]
     },
     "execution_count": 3,
     "metadata": {},
     "output_type": "execute_result"
    }
   ],
   "source": [
    "ECL.shape"
   ]
  },
  {
   "cell_type": "code",
   "execution_count": 4,
   "id": "f59b42c4",
   "metadata": {},
   "outputs": [],
   "source": [
    "# Drop all columns that have all NAs\n",
    "ECL.dropna(axis=1, how='all', inplace=True)"
   ]
  },
  {
   "cell_type": "code",
   "execution_count": 4,
   "id": "0db40122",
   "metadata": {},
   "outputs": [
    {
     "data": {
      "text/plain": [
       "(1593, 58)"
      ]
     },
     "execution_count": 4,
     "metadata": {},
     "output_type": "execute_result"
    }
   ],
   "source": [
    "ECL.shape"
   ]
  },
  {
   "cell_type": "code",
   "execution_count": 5,
   "id": "5b86be93",
   "metadata": {},
   "outputs": [
    {
     "data": {
      "text/plain": [
       "STICHTAG_MANDANT_LAUF_RECHT_AN       0\n",
       "REPORTING_DATE                       0\n",
       "CLIENT                               0\n",
       "KEY_RUN                              0\n",
       "KEY_REPORTING_REGULATION             0\n",
       "TRANSACTION_ID                       0\n",
       "KEY_TRANSACTION_CAT                  0\n",
       "GROUP_CONS_COMPANIES_ID              0\n",
       "KEY_SECURITISATION_VIEW              0\n",
       "KEY_PRIMARY_RISK_PARTNER             0\n",
       "AGE                                  0\n",
       "DATE_END_TRANS_ADJ                   0\n",
       "DATE_INCEPTION_TRANSACTION           0\n",
       "DATE_RATING_AT_INCEPTION             0\n",
       "DAT_PERF_FORBORNE_START              0\n",
       "DAYS_DELAY_PR                        0\n",
       "EAD1Y                                0\n",
       "EADLT                                0\n",
       "EFFECTIVE_INTEREST_RATE              0\n",
       "EXPECTED_LOSS_1Y                     0\n",
       "EXPECTED_LOSS_LT                     0\n",
       "FLAG_UNRATED                         0\n",
       "KEY_EAD_METHOD                       0\n",
       "KEY_RATING_METHOD                    0\n",
       "KEY_RAT_METH_AT_INC                  0\n",
       "KEY_RATING_PROCEDURE_ID              0\n",
       "KEY_RAT_PROCEDURE_ID_AT_INC          0\n",
       "KEY_STAGE_ALLOCATION_QNT             0\n",
       "KEY_STAGE_ALLOCATION_QLT             0\n",
       "KEY_LOW_CREDIT_RISK_EXEMPTION        0\n",
       "KEY_TRIG_QNT_ST_ALLOCAT              0\n",
       "KEY_UNRATED_EL_METHOD                0\n",
       "KEY_UNRATED_ST_ALLOC_METHOD          0\n",
       "LGD1Y                                0\n",
       "LGDLT                                0\n",
       "ORIGINAL_RATING                      0\n",
       "ORIG_RATING_AT_INCEPTION             0\n",
       "PD_1Y_WO_TR_AT_INCEPTION             0\n",
       "PD1Y                                 0\n",
       "PDLT                                 0\n",
       "RESIDUAL_MATURITY                    0\n",
       "PARTNER_ID                           0\n",
       "SECURITISATION_RATE                  0\n",
       "SECURITISATION_TRANSACTION_ID        0\n",
       "LIEFERSYSTEM_ID                      0\n",
       "KEY_ID_SAP                           0\n",
       "DAYS_DELAY_TRANSACTION              43\n",
       "PRODUCT_IDENTIFICATION_ID            0\n",
       "KEY_PRODUCT                          0\n",
       "PD_PR_IFRS_Y1                        0\n",
       "LGD_PR_UNCOL_IFRS_Y1                 0\n",
       "PD_PR_IFRS_Y2                        0\n",
       "PD_PR_IFRS_Y3                        0\n",
       "LGD_PR_UNCOL_IFRS_Y2                 0\n",
       "LGD_PR_UNCOL_IFRS_Y3                 0\n",
       "ASSET_CLASS_TRANSACTION_IRB       1381\n",
       "IME_TRANS_CLUSTER_ID                 0\n",
       "THRESHOLD_PD_ADJUSTED              212\n",
       "dtype: int64"
      ]
     },
     "execution_count": 5,
     "metadata": {},
     "output_type": "execute_result"
    }
   ],
   "source": [
    "ECL.isnull().sum()"
   ]
  },
  {
   "cell_type": "code",
   "execution_count": 6,
   "id": "de7d7647",
   "metadata": {},
   "outputs": [],
   "source": [
    "# Drop all columns that have any NAs as not relevant for the study\n",
    "ECL.dropna(axis=1, how='any', inplace=True)"
   ]
  },
  {
   "cell_type": "code",
   "execution_count": 7,
   "id": "b33affd1",
   "metadata": {},
   "outputs": [
    {
     "data": {
      "text/plain": [
       "(1593, 55)"
      ]
     },
     "execution_count": 7,
     "metadata": {},
     "output_type": "execute_result"
    }
   ],
   "source": [
    "ECL.shape"
   ]
  },
  {
   "cell_type": "code",
   "execution_count": 82,
   "id": "81eef100",
   "metadata": {},
   "outputs": [
    {
     "data": {
      "text/plain": [
       "Index(['STICHTAG_MANDANT_LAUF_RECHT_AN', 'REPORTING_DATE', 'CLIENT', 'KEY_RUN',\n",
       "       'KEY_REPORTING_REGULATION', 'TRANSACTION_ID', 'KEY_TRANSACTION_CAT',\n",
       "       'GROUP_CONS_COMPANIES_ID', 'KEY_SECURITISATION_VIEW',\n",
       "       'KEY_PRIMARY_RISK_PARTNER', 'AGE', 'DATE_END_TRANS_ADJ',\n",
       "       'DATE_INCEPTION_TRANSACTION', 'DATE_RATING_AT_INCEPTION',\n",
       "       'DAT_PERF_FORBORNE_START', 'DAYS_DELAY_PR', 'EAD1Y', 'EADLT',\n",
       "       'EFFECTIVE_INTEREST_RATE', 'EXPECTED_LOSS_1Y', 'EXPECTED_LOSS_LT',\n",
       "       'FLAG_UNRATED', 'KEY_EAD_METHOD', 'KEY_RATING_METHOD',\n",
       "       'KEY_RAT_METH_AT_INC', 'KEY_RATING_PROCEDURE_ID',\n",
       "       'KEY_RAT_PROCEDURE_ID_AT_INC', 'KEY_STAGE_ALLOCATION_QNT',\n",
       "       'KEY_STAGE_ALLOCATION_QLT', 'KEY_LOW_CREDIT_RISK_EXEMPTION',\n",
       "       'KEY_TRIG_QNT_ST_ALLOCAT', 'KEY_UNRATED_EL_METHOD',\n",
       "       'KEY_UNRATED_ST_ALLOC_METHOD', 'LGD1Y', 'LGDLT', 'ORIGINAL_RATING',\n",
       "       'ORIG_RATING_AT_INCEPTION', 'PD_1Y_WO_TR_AT_INCEPTION', 'PD1Y', 'PDLT',\n",
       "       'RESIDUAL_MATURITY', 'PARTNER_ID', 'SECURITISATION_RATE',\n",
       "       'SECURITISATION_TRANSACTION_ID', 'LIEFERSYSTEM_ID', 'KEY_ID_SAP',\n",
       "       'PRODUCT_IDENTIFICATION_ID', 'KEY_PRODUCT', 'PD_PR_IFRS_Y1',\n",
       "       'LGD_PR_UNCOL_IFRS_Y1', 'PD_PR_IFRS_Y2', 'PD_PR_IFRS_Y3',\n",
       "       'LGD_PR_UNCOL_IFRS_Y2', 'LGD_PR_UNCOL_IFRS_Y3', 'IME_TRANS_CLUSTER_ID'],\n",
       "      dtype='object')"
      ]
     },
     "execution_count": 82,
     "metadata": {},
     "output_type": "execute_result"
    }
   ],
   "source": [
    "ECL.columns"
   ]
  },
  {
   "cell_type": "code",
   "execution_count": 8,
   "id": "088bc587",
   "metadata": {},
   "outputs": [
    {
     "data": {
      "text/html": [
       "<div>\n",
       "<style scoped>\n",
       "    .dataframe tbody tr th:only-of-type {\n",
       "        vertical-align: middle;\n",
       "    }\n",
       "\n",
       "    .dataframe tbody tr th {\n",
       "        vertical-align: top;\n",
       "    }\n",
       "\n",
       "    .dataframe thead th {\n",
       "        text-align: right;\n",
       "    }\n",
       "</style>\n",
       "<table border=\"1\" class=\"dataframe\">\n",
       "  <thead>\n",
       "    <tr style=\"text-align: right;\">\n",
       "      <th></th>\n",
       "      <th>REPORTING_DATE</th>\n",
       "      <th>PARTNER_ID</th>\n",
       "      <th>TRANSACTION_ID</th>\n",
       "      <th>EAD1Y</th>\n",
       "      <th>EXPECTED_LOSS_1Y</th>\n",
       "      <th>PD1Y</th>\n",
       "      <th>KEY_LOW_CREDIT_RISK_EXEMPTION</th>\n",
       "      <th>ORIGINAL_RATING</th>\n",
       "      <th>ORIG_RATING_AT_INCEPTION</th>\n",
       "    </tr>\n",
       "  </thead>\n",
       "  <tbody>\n",
       "    <tr>\n",
       "      <th>0</th>\n",
       "      <td>30-SEP-19</td>\n",
       "      <td>24036126</td>\n",
       "      <td>24036126_REPO</td>\n",
       "      <td>3.359181e+05</td>\n",
       "      <td>156.94</td>\n",
       "      <td>0.001221</td>\n",
       "      <td>N</td>\n",
       "      <td>B5</td>\n",
       "      <td>B5</td>\n",
       "    </tr>\n",
       "    <tr>\n",
       "      <th>1</th>\n",
       "      <td>30-SEP-19</td>\n",
       "      <td>24037558</td>\n",
       "      <td>24037558_REPO</td>\n",
       "      <td>1.211426e+07</td>\n",
       "      <td>6042.41</td>\n",
       "      <td>0.001601</td>\n",
       "      <td>N</td>\n",
       "      <td>B6</td>\n",
       "      <td>B6</td>\n",
       "    </tr>\n",
       "    <tr>\n",
       "      <th>2</th>\n",
       "      <td>30-SEP-19</td>\n",
       "      <td>24038130</td>\n",
       "      <td>24038130_REPO</td>\n",
       "      <td>1.476728e+05</td>\n",
       "      <td>171.94</td>\n",
       "      <td>0.002555</td>\n",
       "      <td>N</td>\n",
       "      <td>B8</td>\n",
       "      <td>B8</td>\n",
       "    </tr>\n",
       "    <tr>\n",
       "      <th>3</th>\n",
       "      <td>30-SEP-19</td>\n",
       "      <td>24081965</td>\n",
       "      <td>24081965_REPO</td>\n",
       "      <td>8.414928e+05</td>\n",
       "      <td>419.59</td>\n",
       "      <td>0.001240</td>\n",
       "      <td>N</td>\n",
       "      <td>B5</td>\n",
       "      <td>B5</td>\n",
       "    </tr>\n",
       "    <tr>\n",
       "      <th>4</th>\n",
       "      <td>30-SEP-19</td>\n",
       "      <td>30374682</td>\n",
       "      <td>30374682_REPO</td>\n",
       "      <td>1.032456e+08</td>\n",
       "      <td>91134.62</td>\n",
       "      <td>0.002076</td>\n",
       "      <td>N</td>\n",
       "      <td>B7</td>\n",
       "      <td>B7</td>\n",
       "    </tr>\n",
       "  </tbody>\n",
       "</table>\n",
       "</div>"
      ],
      "text/plain": [
       "  REPORTING_DATE  PARTNER_ID TRANSACTION_ID         EAD1Y  EXPECTED_LOSS_1Y  \\\n",
       "0      30-SEP-19    24036126  24036126_REPO  3.359181e+05            156.94   \n",
       "1      30-SEP-19    24037558  24037558_REPO  1.211426e+07           6042.41   \n",
       "2      30-SEP-19    24038130  24038130_REPO  1.476728e+05            171.94   \n",
       "3      30-SEP-19    24081965  24081965_REPO  8.414928e+05            419.59   \n",
       "4      30-SEP-19    30374682  30374682_REPO  1.032456e+08          91134.62   \n",
       "\n",
       "       PD1Y KEY_LOW_CREDIT_RISK_EXEMPTION ORIGINAL_RATING  \\\n",
       "0  0.001221                           N                B5   \n",
       "1  0.001601                           N                B6   \n",
       "2  0.002555                           N                B8   \n",
       "3  0.001240                           N                B5   \n",
       "4  0.002076                           N                B7   \n",
       "\n",
       "  ORIG_RATING_AT_INCEPTION  \n",
       "0                       B5  \n",
       "1                       B6  \n",
       "2                       B8  \n",
       "3                       B5  \n",
       "4                       B7  "
      ]
     },
     "execution_count": 8,
     "metadata": {},
     "output_type": "execute_result"
    }
   ],
   "source": [
    "ECL_study = ECL[['REPORTING_DATE', 'PARTNER_ID', 'TRANSACTION_ID', 'EAD1Y', 'EXPECTED_LOSS_1Y', 'PD1Y', 'KEY_LOW_CREDIT_RISK_EXEMPTION', 'ORIGINAL_RATING', 'ORIG_RATING_AT_INCEPTION']]\n",
    "ECL_study.head()"
   ]
  },
  {
   "cell_type": "code",
   "execution_count": 9,
   "id": "e216f463",
   "metadata": {},
   "outputs": [
    {
     "data": {
      "text/plain": [
       "REPORTING_DATE                    object\n",
       "PARTNER_ID                         int64\n",
       "TRANSACTION_ID                    object\n",
       "EAD1Y                            float64\n",
       "EXPECTED_LOSS_1Y                 float64\n",
       "PD1Y                             float64\n",
       "KEY_LOW_CREDIT_RISK_EXEMPTION     object\n",
       "ORIGINAL_RATING                   object\n",
       "ORIG_RATING_AT_INCEPTION          object\n",
       "dtype: object"
      ]
     },
     "execution_count": 9,
     "metadata": {},
     "output_type": "execute_result"
    }
   ],
   "source": [
    "ECL_study.dtypes"
   ]
  },
  {
   "cell_type": "code",
   "execution_count": 10,
   "id": "91988f82",
   "metadata": {
    "scrolled": true
   },
   "outputs": [
    {
     "name": "stderr",
     "output_type": "stream",
     "text": [
      "<ipython-input-10-84985ffd88cc>:1: SettingWithCopyWarning: \n",
      "A value is trying to be set on a copy of a slice from a DataFrame.\n",
      "Try using .loc[row_indexer,col_indexer] = value instead\n",
      "\n",
      "See the caveats in the documentation: https://pandas.pydata.org/pandas-docs/stable/user_guide/indexing.html#returning-a-view-versus-a-copy\n",
      "  ECL_study[\"PARTNER_ID\"] = ECL_study[\"PARTNER_ID\"].astype(str)\n"
     ]
    }
   ],
   "source": [
    "ECL_study[\"PARTNER_ID\"] = ECL_study[\"PARTNER_ID\"].astype(str)"
   ]
  },
  {
   "cell_type": "code",
   "execution_count": 11,
   "id": "ecbb2070",
   "metadata": {},
   "outputs": [
    {
     "data": {
      "text/plain": [
       "REPORTING_DATE                    object\n",
       "PARTNER_ID                        object\n",
       "TRANSACTION_ID                    object\n",
       "EAD1Y                            float64\n",
       "EXPECTED_LOSS_1Y                 float64\n",
       "PD1Y                             float64\n",
       "KEY_LOW_CREDIT_RISK_EXEMPTION     object\n",
       "ORIGINAL_RATING                   object\n",
       "ORIG_RATING_AT_INCEPTION          object\n",
       "dtype: object"
      ]
     },
     "execution_count": 11,
     "metadata": {},
     "output_type": "execute_result"
    }
   ],
   "source": [
    "ECL_study.dtypes"
   ]
  },
  {
   "cell_type": "code",
   "execution_count": 12,
   "id": "c3fa5576",
   "metadata": {},
   "outputs": [
    {
     "name": "stderr",
     "output_type": "stream",
     "text": [
      "<ipython-input-12-7bb85d5a7517>:1: SettingWithCopyWarning: \n",
      "A value is trying to be set on a copy of a slice from a DataFrame.\n",
      "Try using .loc[row_indexer,col_indexer] = value instead\n",
      "\n",
      "See the caveats in the documentation: https://pandas.pydata.org/pandas-docs/stable/user_guide/indexing.html#returning-a-view-versus-a-copy\n",
      "  ECL_study[\"REPORTING_DATE\"] = pd.to_datetime(ECL_study[\"REPORTING_DATE\"], infer_datetime_format=True)\n"
     ]
    }
   ],
   "source": [
    "ECL_study[\"REPORTING_DATE\"] = pd.to_datetime(ECL_study[\"REPORTING_DATE\"], infer_datetime_format=True)"
   ]
  },
  {
   "cell_type": "code",
   "execution_count": 13,
   "id": "753c93b9",
   "metadata": {},
   "outputs": [
    {
     "data": {
      "text/plain": [
       "REPORTING_DATE                   datetime64[ns]\n",
       "PARTNER_ID                               object\n",
       "TRANSACTION_ID                           object\n",
       "EAD1Y                                   float64\n",
       "EXPECTED_LOSS_1Y                        float64\n",
       "PD1Y                                    float64\n",
       "KEY_LOW_CREDIT_RISK_EXEMPTION            object\n",
       "ORIGINAL_RATING                          object\n",
       "ORIG_RATING_AT_INCEPTION                 object\n",
       "dtype: object"
      ]
     },
     "execution_count": 13,
     "metadata": {},
     "output_type": "execute_result"
    }
   ],
   "source": [
    "ECL_study.dtypes"
   ]
  },
  {
   "cell_type": "code",
   "execution_count": 14,
   "id": "e201e645",
   "metadata": {},
   "outputs": [
    {
     "data": {
      "text/html": [
       "<div>\n",
       "<style scoped>\n",
       "    .dataframe tbody tr th:only-of-type {\n",
       "        vertical-align: middle;\n",
       "    }\n",
       "\n",
       "    .dataframe tbody tr th {\n",
       "        vertical-align: top;\n",
       "    }\n",
       "\n",
       "    .dataframe thead th {\n",
       "        text-align: right;\n",
       "    }\n",
       "</style>\n",
       "<table border=\"1\" class=\"dataframe\">\n",
       "  <thead>\n",
       "    <tr style=\"text-align: right;\">\n",
       "      <th></th>\n",
       "      <th>REPORTING_DATE</th>\n",
       "      <th>PARTNER_ID</th>\n",
       "      <th>TRANSACTION_ID</th>\n",
       "      <th>EAD1Y</th>\n",
       "      <th>EXPECTED_LOSS_1Y</th>\n",
       "      <th>PD1Y</th>\n",
       "      <th>KEY_LOW_CREDIT_RISK_EXEMPTION</th>\n",
       "      <th>ORIGINAL_RATING</th>\n",
       "      <th>ORIG_RATING_AT_INCEPTION</th>\n",
       "    </tr>\n",
       "  </thead>\n",
       "  <tbody>\n",
       "    <tr>\n",
       "      <th>0</th>\n",
       "      <td>30-SEP-19</td>\n",
       "      <td>24036126</td>\n",
       "      <td>24036126_REPO</td>\n",
       "      <td>3.359181e+05</td>\n",
       "      <td>156.94</td>\n",
       "      <td>0.001221</td>\n",
       "      <td>N</td>\n",
       "      <td>B5</td>\n",
       "      <td>B5</td>\n",
       "    </tr>\n",
       "    <tr>\n",
       "      <th>1</th>\n",
       "      <td>30-SEP-19</td>\n",
       "      <td>24037558</td>\n",
       "      <td>24037558_REPO</td>\n",
       "      <td>1.211426e+07</td>\n",
       "      <td>6042.41</td>\n",
       "      <td>0.001601</td>\n",
       "      <td>N</td>\n",
       "      <td>B6</td>\n",
       "      <td>B6</td>\n",
       "    </tr>\n",
       "    <tr>\n",
       "      <th>2</th>\n",
       "      <td>30-SEP-19</td>\n",
       "      <td>24038130</td>\n",
       "      <td>24038130_REPO</td>\n",
       "      <td>1.476728e+05</td>\n",
       "      <td>171.94</td>\n",
       "      <td>0.002555</td>\n",
       "      <td>N</td>\n",
       "      <td>B8</td>\n",
       "      <td>B8</td>\n",
       "    </tr>\n",
       "    <tr>\n",
       "      <th>3</th>\n",
       "      <td>30-SEP-19</td>\n",
       "      <td>24081965</td>\n",
       "      <td>24081965_REPO</td>\n",
       "      <td>8.414928e+05</td>\n",
       "      <td>419.59</td>\n",
       "      <td>0.001240</td>\n",
       "      <td>N</td>\n",
       "      <td>B5</td>\n",
       "      <td>B5</td>\n",
       "    </tr>\n",
       "    <tr>\n",
       "      <th>4</th>\n",
       "      <td>30-SEP-19</td>\n",
       "      <td>30374682</td>\n",
       "      <td>30374682_REPO</td>\n",
       "      <td>1.032456e+08</td>\n",
       "      <td>91134.62</td>\n",
       "      <td>0.002076</td>\n",
       "      <td>N</td>\n",
       "      <td>B7</td>\n",
       "      <td>B7</td>\n",
       "    </tr>\n",
       "    <tr>\n",
       "      <th>...</th>\n",
       "      <td>...</td>\n",
       "      <td>...</td>\n",
       "      <td>...</td>\n",
       "      <td>...</td>\n",
       "      <td>...</td>\n",
       "      <td>...</td>\n",
       "      <td>...</td>\n",
       "      <td>...</td>\n",
       "      <td>...</td>\n",
       "    </tr>\n",
       "    <tr>\n",
       "      <th>1588</th>\n",
       "      <td>30-JUN-21</td>\n",
       "      <td>24158450</td>\n",
       "      <td>IS_SECTRANS_XS0750894577_FVTOCI_21</td>\n",
       "      <td>4.693901e+07</td>\n",
       "      <td>91.67</td>\n",
       "      <td>0.000006</td>\n",
       "      <td>J</td>\n",
       "      <td>S3</td>\n",
       "      <td>S3</td>\n",
       "    </tr>\n",
       "    <tr>\n",
       "      <th>1589</th>\n",
       "      <td>30-JUN-21</td>\n",
       "      <td>24036841</td>\n",
       "      <td>NO_CURRENT__100000010_1000001_11_USD</td>\n",
       "      <td>3.116480e+06</td>\n",
       "      <td>518.04</td>\n",
       "      <td>0.000250</td>\n",
       "      <td>N</td>\n",
       "      <td>B4</td>\n",
       "      <td>B4</td>\n",
       "    </tr>\n",
       "    <tr>\n",
       "      <th>1590</th>\n",
       "      <td>30-JUN-21</td>\n",
       "      <td>24036038</td>\n",
       "      <td>NO_CURRENT__100000010_1000002_11_GBP</td>\n",
       "      <td>7.410084e+04</td>\n",
       "      <td>16.07</td>\n",
       "      <td>0.000928</td>\n",
       "      <td>N</td>\n",
       "      <td>B6</td>\n",
       "      <td>B6</td>\n",
       "    </tr>\n",
       "    <tr>\n",
       "      <th>1591</th>\n",
       "      <td>30-JUN-21</td>\n",
       "      <td>30374682</td>\n",
       "      <td>NO_CURRENT__100000011_1000000_11_EUR</td>\n",
       "      <td>2.793028e+07</td>\n",
       "      <td>19525.24</td>\n",
       "      <td>0.001787</td>\n",
       "      <td>N</td>\n",
       "      <td>B7</td>\n",
       "      <td>B7</td>\n",
       "    </tr>\n",
       "    <tr>\n",
       "      <th>1592</th>\n",
       "      <td>30-JUN-21</td>\n",
       "      <td>24045513</td>\n",
       "      <td>NO_CURRENT__100000050_1000289_51_EUR</td>\n",
       "      <td>3.135000e+02</td>\n",
       "      <td>0.06</td>\n",
       "      <td>0.001019</td>\n",
       "      <td>N</td>\n",
       "      <td>B7</td>\n",
       "      <td>B7</td>\n",
       "    </tr>\n",
       "  </tbody>\n",
       "</table>\n",
       "<p>1593 rows × 9 columns</p>\n",
       "</div>"
      ],
      "text/plain": [
       "     REPORTING_DATE PARTNER_ID                        TRANSACTION_ID  \\\n",
       "0         30-SEP-19   24036126                         24036126_REPO   \n",
       "1         30-SEP-19   24037558                         24037558_REPO   \n",
       "2         30-SEP-19   24038130                         24038130_REPO   \n",
       "3         30-SEP-19   24081965                         24081965_REPO   \n",
       "4         30-SEP-19   30374682                         30374682_REPO   \n",
       "...             ...        ...                                   ...   \n",
       "1588      30-JUN-21   24158450    IS_SECTRANS_XS0750894577_FVTOCI_21   \n",
       "1589      30-JUN-21   24036841  NO_CURRENT__100000010_1000001_11_USD   \n",
       "1590      30-JUN-21   24036038  NO_CURRENT__100000010_1000002_11_GBP   \n",
       "1591      30-JUN-21   30374682  NO_CURRENT__100000011_1000000_11_EUR   \n",
       "1592      30-JUN-21   24045513  NO_CURRENT__100000050_1000289_51_EUR   \n",
       "\n",
       "             EAD1Y  EXPECTED_LOSS_1Y      PD1Y KEY_LOW_CREDIT_RISK_EXEMPTION  \\\n",
       "0     3.359181e+05            156.94  0.001221                           N     \n",
       "1     1.211426e+07           6042.41  0.001601                           N     \n",
       "2     1.476728e+05            171.94  0.002555                           N     \n",
       "3     8.414928e+05            419.59  0.001240                           N     \n",
       "4     1.032456e+08          91134.62  0.002076                           N     \n",
       "...            ...               ...       ...                           ...   \n",
       "1588  4.693901e+07             91.67  0.000006                           J     \n",
       "1589  3.116480e+06            518.04  0.000250                           N     \n",
       "1590  7.410084e+04             16.07  0.000928                           N     \n",
       "1591  2.793028e+07          19525.24  0.001787                           N     \n",
       "1592  3.135000e+02              0.06  0.001019                           N     \n",
       "\n",
       "     ORIGINAL_RATING ORIG_RATING_AT_INCEPTION  \n",
       "0                 B5                       B5  \n",
       "1                 B6                       B6  \n",
       "2                 B8                       B8  \n",
       "3                 B5                       B5  \n",
       "4                 B7                       B7  \n",
       "...              ...                      ...  \n",
       "1588              S3                       S3  \n",
       "1589              B4                       B4  \n",
       "1590              B6                       B6  \n",
       "1591              B7                       B7  \n",
       "1592              B7                       B7  \n",
       "\n",
       "[1593 rows x 9 columns]"
      ]
     },
     "execution_count": 14,
     "metadata": {},
     "output_type": "execute_result"
    }
   ],
   "source": [
    "# ECL_study.astype({\"PARTNER_ID\":str})"
   ]
  },
  {
   "cell_type": "code",
   "execution_count": 15,
   "id": "d0c031f1",
   "metadata": {},
   "outputs": [
    {
     "data": {
      "text/plain": [
       "REPORTING_DATE                   datetime64[ns]\n",
       "PARTNER_ID                               object\n",
       "TRANSACTION_ID                           object\n",
       "EAD1Y                                   float64\n",
       "EXPECTED_LOSS_1Y                        float64\n",
       "PD1Y                                    float64\n",
       "KEY_LOW_CREDIT_RISK_EXEMPTION            object\n",
       "ORIGINAL_RATING                          object\n",
       "ORIG_RATING_AT_INCEPTION                 object\n",
       "dtype: object"
      ]
     },
     "execution_count": 15,
     "metadata": {},
     "output_type": "execute_result"
    }
   ],
   "source": [
    "ECL_study.dtypes"
   ]
  },
  {
   "cell_type": "code",
   "execution_count": 14,
   "id": "4b2a2064",
   "metadata": {},
   "outputs": [
    {
     "data": {
      "text/html": [
       "<div>\n",
       "<style scoped>\n",
       "    .dataframe tbody tr th:only-of-type {\n",
       "        vertical-align: middle;\n",
       "    }\n",
       "\n",
       "    .dataframe tbody tr th {\n",
       "        vertical-align: top;\n",
       "    }\n",
       "\n",
       "    .dataframe thead th {\n",
       "        text-align: right;\n",
       "    }\n",
       "</style>\n",
       "<table border=\"1\" class=\"dataframe\">\n",
       "  <thead>\n",
       "    <tr style=\"text-align: right;\">\n",
       "      <th></th>\n",
       "      <th>REPORTING_DATE</th>\n",
       "      <th>PARTNER_ID</th>\n",
       "      <th>TRANSACTION_ID</th>\n",
       "      <th>EAD1Y</th>\n",
       "      <th>EXPECTED_LOSS_1Y</th>\n",
       "      <th>PD1Y</th>\n",
       "      <th>KEY_LOW_CREDIT_RISK_EXEMPTION</th>\n",
       "      <th>ORIGINAL_RATING</th>\n",
       "      <th>ORIG_RATING_AT_INCEPTION</th>\n",
       "    </tr>\n",
       "  </thead>\n",
       "  <tbody>\n",
       "    <tr>\n",
       "      <th>0</th>\n",
       "      <td>2019-09-30</td>\n",
       "      <td>24036126</td>\n",
       "      <td>24036126_REPO</td>\n",
       "      <td>3.359181e+05</td>\n",
       "      <td>156.94</td>\n",
       "      <td>0.001221</td>\n",
       "      <td>N</td>\n",
       "      <td>B5</td>\n",
       "      <td>B5</td>\n",
       "    </tr>\n",
       "    <tr>\n",
       "      <th>1</th>\n",
       "      <td>2019-09-30</td>\n",
       "      <td>24037558</td>\n",
       "      <td>24037558_REPO</td>\n",
       "      <td>1.211426e+07</td>\n",
       "      <td>6042.41</td>\n",
       "      <td>0.001601</td>\n",
       "      <td>N</td>\n",
       "      <td>B6</td>\n",
       "      <td>B6</td>\n",
       "    </tr>\n",
       "    <tr>\n",
       "      <th>2</th>\n",
       "      <td>2019-09-30</td>\n",
       "      <td>24038130</td>\n",
       "      <td>24038130_REPO</td>\n",
       "      <td>1.476728e+05</td>\n",
       "      <td>171.94</td>\n",
       "      <td>0.002555</td>\n",
       "      <td>N</td>\n",
       "      <td>B8</td>\n",
       "      <td>B8</td>\n",
       "    </tr>\n",
       "    <tr>\n",
       "      <th>3</th>\n",
       "      <td>2019-09-30</td>\n",
       "      <td>24081965</td>\n",
       "      <td>24081965_REPO</td>\n",
       "      <td>8.414928e+05</td>\n",
       "      <td>419.59</td>\n",
       "      <td>0.001240</td>\n",
       "      <td>N</td>\n",
       "      <td>B5</td>\n",
       "      <td>B5</td>\n",
       "    </tr>\n",
       "    <tr>\n",
       "      <th>4</th>\n",
       "      <td>2019-09-30</td>\n",
       "      <td>30374682</td>\n",
       "      <td>30374682_REPO</td>\n",
       "      <td>1.032456e+08</td>\n",
       "      <td>91134.62</td>\n",
       "      <td>0.002076</td>\n",
       "      <td>N</td>\n",
       "      <td>B7</td>\n",
       "      <td>B7</td>\n",
       "    </tr>\n",
       "  </tbody>\n",
       "</table>\n",
       "</div>"
      ],
      "text/plain": [
       "  REPORTING_DATE PARTNER_ID TRANSACTION_ID         EAD1Y  EXPECTED_LOSS_1Y  \\\n",
       "0     2019-09-30   24036126  24036126_REPO  3.359181e+05            156.94   \n",
       "1     2019-09-30   24037558  24037558_REPO  1.211426e+07           6042.41   \n",
       "2     2019-09-30   24038130  24038130_REPO  1.476728e+05            171.94   \n",
       "3     2019-09-30   24081965  24081965_REPO  8.414928e+05            419.59   \n",
       "4     2019-09-30   30374682  30374682_REPO  1.032456e+08          91134.62   \n",
       "\n",
       "       PD1Y KEY_LOW_CREDIT_RISK_EXEMPTION ORIGINAL_RATING  \\\n",
       "0  0.001221                           N                B5   \n",
       "1  0.001601                           N                B6   \n",
       "2  0.002555                           N                B8   \n",
       "3  0.001240                           N                B5   \n",
       "4  0.002076                           N                B7   \n",
       "\n",
       "  ORIG_RATING_AT_INCEPTION  \n",
       "0                       B5  \n",
       "1                       B6  \n",
       "2                       B8  \n",
       "3                       B5  \n",
       "4                       B7  "
      ]
     },
     "execution_count": 14,
     "metadata": {},
     "output_type": "execute_result"
    }
   ],
   "source": [
    "ECL_study.head()"
   ]
  },
  {
   "cell_type": "code",
   "execution_count": null,
   "id": "96a3007a",
   "metadata": {},
   "outputs": [],
   "source": [
    "#Importing Pandas and a reading a file (CSV) into a Pandas Data Frame using the relative path"
   ]
  },
  {
   "cell_type": "code",
   "execution_count": 16,
   "id": "a8336c77",
   "metadata": {},
   "outputs": [],
   "source": [
    "import pandas as pd\n",
    "partner = pd.read_csv(\"export2Partner.csv\")"
   ]
  },
  {
   "cell_type": "code",
   "execution_count": null,
   "id": "04eb10ac",
   "metadata": {},
   "outputs": [],
   "source": [
    "# Initial exploration of data in preparation of subsetting: I am interested in Partner ID and Country Code"
   ]
  },
  {
   "cell_type": "code",
   "execution_count": 17,
   "id": "82b992ff",
   "metadata": {
    "scrolled": true
   },
   "outputs": [
    {
     "data": {
      "text/html": [
       "<div>\n",
       "<style scoped>\n",
       "    .dataframe tbody tr th:only-of-type {\n",
       "        vertical-align: middle;\n",
       "    }\n",
       "\n",
       "    .dataframe tbody tr th {\n",
       "        vertical-align: top;\n",
       "    }\n",
       "\n",
       "    .dataframe thead th {\n",
       "        text-align: right;\n",
       "    }\n",
       "</style>\n",
       "<table border=\"1\" class=\"dataframe\">\n",
       "  <thead>\n",
       "    <tr style=\"text-align: right;\">\n",
       "      <th></th>\n",
       "      <th>PARTNER_ID</th>\n",
       "      <th>STICHTAG</th>\n",
       "      <th>MANDANT</th>\n",
       "      <th>STICHTAG_MANDANT_LAUF</th>\n",
       "      <th>SL_ABWEICH_LAENDERRISIKOLAND</th>\n",
       "      <th>SL_POLITISCHES_SITZLAND</th>\n",
       "      <th>SL_RECHTLICHES_LAND</th>\n",
       "      <th>PARTNERART</th>\n",
       "      <th>KZ_MANDANTENINTERNER_PARTNER</th>\n",
       "      <th>SL_RECHTSFORM</th>\n",
       "      <th>...</th>\n",
       "      <th>KZ_SME_THRESHOLD_NOT_EXC_STA</th>\n",
       "      <th>SL_CVA_COUNTERPARTY_CLASS</th>\n",
       "      <th>KZ_ELIGIBLE_SETTING_MATUR_1_Y</th>\n",
       "      <th>DAT_LEGAL_PROC_INIT</th>\n",
       "      <th>SL_ENTERPRISE_SIZE</th>\n",
       "      <th>SL_STATUS_LEGAL_PROC</th>\n",
       "      <th>SL_INTRAGROUP_EXPOSURE_CRR_113</th>\n",
       "      <th>SL_LEGAL_FORM_ECB</th>\n",
       "      <th>SL_TYPE_OF_ENTITY</th>\n",
       "      <th>KZ_GOVERNMENT_SUPPORT</th>\n",
       "    </tr>\n",
       "  </thead>\n",
       "  <tbody>\n",
       "    <tr>\n",
       "      <th>0</th>\n",
       "      <td>24045513</td>\n",
       "      <td>30-JUN-21</td>\n",
       "      <td>2200</td>\n",
       "      <td>21063002200A</td>\n",
       "      <td>XXX</td>\n",
       "      <td>IE</td>\n",
       "      <td>7</td>\n",
       "      <td>XX</td>\n",
       "      <td>N</td>\n",
       "      <td>XXX</td>\n",
       "      <td>...</td>\n",
       "      <td>N</td>\n",
       "      <td>XXX</td>\n",
       "      <td>N</td>\n",
       "      <td>01-JAN-00</td>\n",
       "      <td>L</td>\n",
       "      <td>N</td>\n",
       "      <td>X</td>\n",
       "      <td>XXXXXX</td>\n",
       "      <td>XX</td>\n",
       "      <td>NaN</td>\n",
       "    </tr>\n",
       "    <tr>\n",
       "      <th>1</th>\n",
       "      <td>24038001</td>\n",
       "      <td>30-JUN-21</td>\n",
       "      <td>2200</td>\n",
       "      <td>21063002200A</td>\n",
       "      <td>XXX</td>\n",
       "      <td>BE</td>\n",
       "      <td>17</td>\n",
       "      <td>XX</td>\n",
       "      <td>N</td>\n",
       "      <td>XXX</td>\n",
       "      <td>...</td>\n",
       "      <td>N</td>\n",
       "      <td>XXX</td>\n",
       "      <td>N</td>\n",
       "      <td>01-JAN-00</td>\n",
       "      <td>L</td>\n",
       "      <td>N</td>\n",
       "      <td>X</td>\n",
       "      <td>XXXXXX</td>\n",
       "      <td>XX</td>\n",
       "      <td>NaN</td>\n",
       "    </tr>\n",
       "    <tr>\n",
       "      <th>2</th>\n",
       "      <td>24053273</td>\n",
       "      <td>30-JUN-21</td>\n",
       "      <td>2200</td>\n",
       "      <td>21063002200A</td>\n",
       "      <td>XXX</td>\n",
       "      <td>XIO</td>\n",
       "      <td>912</td>\n",
       "      <td>XX</td>\n",
       "      <td>N</td>\n",
       "      <td>XXX</td>\n",
       "      <td>...</td>\n",
       "      <td>N</td>\n",
       "      <td>XXX</td>\n",
       "      <td>N</td>\n",
       "      <td>01-JAN-00</td>\n",
       "      <td>L</td>\n",
       "      <td>N</td>\n",
       "      <td>X</td>\n",
       "      <td>XXXXXX</td>\n",
       "      <td>XX</td>\n",
       "      <td>NaN</td>\n",
       "    </tr>\n",
       "    <tr>\n",
       "      <th>3</th>\n",
       "      <td>87010403</td>\n",
       "      <td>30-JUN-21</td>\n",
       "      <td>2200</td>\n",
       "      <td>21063002200A</td>\n",
       "      <td>XXX</td>\n",
       "      <td>DE</td>\n",
       "      <td>39</td>\n",
       "      <td>XX</td>\n",
       "      <td>N</td>\n",
       "      <td>XXX</td>\n",
       "      <td>...</td>\n",
       "      <td>N</td>\n",
       "      <td>XXX</td>\n",
       "      <td>N</td>\n",
       "      <td>01-JAN-00</td>\n",
       "      <td>L</td>\n",
       "      <td>N</td>\n",
       "      <td>X</td>\n",
       "      <td>XXXXXX</td>\n",
       "      <td>XX</td>\n",
       "      <td>NaN</td>\n",
       "    </tr>\n",
       "    <tr>\n",
       "      <th>4</th>\n",
       "      <td>23670755</td>\n",
       "      <td>30-JUN-21</td>\n",
       "      <td>2200</td>\n",
       "      <td>21063002200A</td>\n",
       "      <td>XXX</td>\n",
       "      <td>NL</td>\n",
       "      <td>3</td>\n",
       "      <td>XX</td>\n",
       "      <td>N</td>\n",
       "      <td>XXX</td>\n",
       "      <td>...</td>\n",
       "      <td>N</td>\n",
       "      <td>XXX</td>\n",
       "      <td>N</td>\n",
       "      <td>01-JAN-00</td>\n",
       "      <td>L</td>\n",
       "      <td>N</td>\n",
       "      <td>X</td>\n",
       "      <td>XXXXXX</td>\n",
       "      <td>XX</td>\n",
       "      <td>NaN</td>\n",
       "    </tr>\n",
       "  </tbody>\n",
       "</table>\n",
       "<p>5 rows × 82 columns</p>\n",
       "</div>"
      ],
      "text/plain": [
       "   PARTNER_ID   STICHTAG  MANDANT STICHTAG_MANDANT_LAUF  \\\n",
       "0    24045513  30-JUN-21     2200          21063002200A   \n",
       "1    24038001  30-JUN-21     2200          21063002200A   \n",
       "2    24053273  30-JUN-21     2200          21063002200A   \n",
       "3    87010403  30-JUN-21     2200          21063002200A   \n",
       "4    23670755  30-JUN-21     2200          21063002200A   \n",
       "\n",
       "  SL_ABWEICH_LAENDERRISIKOLAND SL_POLITISCHES_SITZLAND  SL_RECHTLICHES_LAND  \\\n",
       "0                          XXX                     IE                     7   \n",
       "1                          XXX                     BE                    17   \n",
       "2                          XXX                     XIO                  912   \n",
       "3                          XXX                     DE                    39   \n",
       "4                          XXX                     NL                     3   \n",
       "\n",
       "  PARTNERART KZ_MANDANTENINTERNER_PARTNER SL_RECHTSFORM  ...  \\\n",
       "0         XX                            N           XXX  ...   \n",
       "1         XX                            N           XXX  ...   \n",
       "2         XX                            N           XXX  ...   \n",
       "3         XX                            N           XXX  ...   \n",
       "4         XX                            N           XXX  ...   \n",
       "\n",
       "  KZ_SME_THRESHOLD_NOT_EXC_STA SL_CVA_COUNTERPARTY_CLASS  \\\n",
       "0                            N                       XXX   \n",
       "1                            N                       XXX   \n",
       "2                            N                       XXX   \n",
       "3                            N                       XXX   \n",
       "4                            N                       XXX   \n",
       "\n",
       "  KZ_ELIGIBLE_SETTING_MATUR_1_Y DAT_LEGAL_PROC_INIT SL_ENTERPRISE_SIZE  \\\n",
       "0                             N           01-JAN-00                  L   \n",
       "1                             N           01-JAN-00                  L   \n",
       "2                             N           01-JAN-00                  L   \n",
       "3                             N           01-JAN-00                  L   \n",
       "4                             N           01-JAN-00                  L   \n",
       "\n",
       "  SL_STATUS_LEGAL_PROC SL_INTRAGROUP_EXPOSURE_CRR_113 SL_LEGAL_FORM_ECB  \\\n",
       "0                    N                              X            XXXXXX   \n",
       "1                    N                              X            XXXXXX   \n",
       "2                    N                              X            XXXXXX   \n",
       "3                    N                              X            XXXXXX   \n",
       "4                    N                              X            XXXXXX   \n",
       "\n",
       "  SL_TYPE_OF_ENTITY KZ_GOVERNMENT_SUPPORT  \n",
       "0                XX                   NaN  \n",
       "1                XX                   NaN  \n",
       "2                XX                   NaN  \n",
       "3                XX                   NaN  \n",
       "4                XX                   NaN  \n",
       "\n",
       "[5 rows x 82 columns]"
      ]
     },
     "execution_count": 17,
     "metadata": {},
     "output_type": "execute_result"
    }
   ],
   "source": [
    "partner.head()"
   ]
  },
  {
   "cell_type": "code",
   "execution_count": 18,
   "id": "9847397d",
   "metadata": {},
   "outputs": [
    {
     "data": {
      "text/plain": [
       "(76, 82)"
      ]
     },
     "execution_count": 18,
     "metadata": {},
     "output_type": "execute_result"
    }
   ],
   "source": [
    "partner.shape"
   ]
  },
  {
   "cell_type": "code",
   "execution_count": 19,
   "id": "97977097",
   "metadata": {},
   "outputs": [
    {
     "data": {
      "text/plain": [
       "Index(['PARTNER_ID', 'STICHTAG', 'MANDANT', 'STICHTAG_MANDANT_LAUF',\n",
       "       'SL_ABWEICH_LAENDERRISIKOLAND', 'SL_POLITISCHES_SITZLAND',\n",
       "       'SL_RECHTLICHES_LAND', 'PARTNERART', 'KZ_MANDANTENINTERNER_PARTNER',\n",
       "       'SL_RECHTSFORM', 'SL_ORGANBEZIEHUNG', 'SL_SONDERPARTNER_GS1',\n",
       "       'SL_TEILPORTFOLIO_STA', 'SL_TEILPORTFOLIO_IRB', 'DAT_GEBURT',\n",
       "       'SL_LEISTUNGSSTATUS', 'KZ_15_TAGE_WAHLRECHT', 'KZ_ANONYMISIERUNG',\n",
       "       'KZ_PRIVILEGIERTE_INSTITUTION', 'KZ_HANDWERKER', 'KZ_SPV',\n",
       "       'KZ_BEAUF_INVESTMENTF_PENSIONSK', 'PARTNERNAME', 'PARTNERVORNAME',\n",
       "       'PARTNERNACHNAME', 'SITZ_ORT', 'SITZ_POSTLEITZAHL', 'SITZ_STRASSE',\n",
       "       'GEBURTSORT', 'TITEL', 'SL_HINWEIS', 'REPORTINGINFORMATION',\n",
       "       'JAHRESEINKOMMEN', 'SL_PARTNERKLASSE_INTERN',\n",
       "       'KZ_LEISTUNGSSTATUS_AUTOMATISCH', 'SL_UNTERNEHMENSART_AUFSICHTSR',\n",
       "       'KZ_LANGFRISTIGE_KUNDENBEZ', 'KZ_HEDGEFONDS',\n",
       "       'KZ_UNMITTELBARE_AUSFALLERKENN', 'SL_GEWERBE',\n",
       "       'KZ_SCHULDNERUEBERWACHUNG', 'LIEFERSYSTEM_ID',\n",
       "       'KZ_INTERBANKENMARKTSPEZIALIST', 'DAT_BEG_PARTNERBEZIEHUNG',\n",
       "       'SL_AUSFALLKLASSIFIKATION_BOI', 'DAT_AUSFALLKLASSIFIKATION_BOI',\n",
       "       'SL_ERSTE_AUSFALLKLASSIF_BOI', 'DAT_ERSTE_AUSFALLKLASSIF_BOI',\n",
       "       'SL_LEGAL_COUNTRY_ISO_3166_1_A2', 'KZ_SUPERVISED_INSURANCE_COMPAN',\n",
       "       'KZ_TREATMENT_AS_CENTRAL_GOV', 'KZ_DATA_PROTECTION_STATEMENT',\n",
       "       'SL_MANAGERIAL_CATEGORY', 'SL_CUSTOMER_SEGMENT', 'SL_DIVISION',\n",
       "       'SL_SEGMENT', 'SL_LARGENESS', 'SL_NACE', 'SL_STAATSANGEHOERIGKEIT',\n",
       "       'KZ_ESTABLISHED_RELATIONSHIP', 'KZ_ENHANCED_GROUPING_METHODS',\n",
       "       'KZ_PARAGRAPH_15_KWG', 'KZ_PARAGRAPH_18_KWG', 'SL_SIZE_CLASS',\n",
       "       'SL_FINANCIAL_ENTITY_REGULATION', 'SL_SPV_BUSINESS_AREA',\n",
       "       'SL_SPV_CATEGORY', 'SL_PARTNER_STATUS', 'DAT_CLEARING_THRESHOLD_EXC',\n",
       "       'KZ_PENSION_SCHEME_ARRANGEMENT', 'KZ_SME',\n",
       "       'KZ_SME_THRESHOLD_NOT_EXC_IRB', 'KZ_SME_THRESHOLD_NOT_EXC_STA',\n",
       "       'SL_CVA_COUNTERPARTY_CLASS', 'KZ_ELIGIBLE_SETTING_MATUR_1_Y',\n",
       "       'DAT_LEGAL_PROC_INIT', 'SL_ENTERPRISE_SIZE', 'SL_STATUS_LEGAL_PROC',\n",
       "       'SL_INTRAGROUP_EXPOSURE_CRR_113', 'SL_LEGAL_FORM_ECB',\n",
       "       'SL_TYPE_OF_ENTITY', 'KZ_GOVERNMENT_SUPPORT'],\n",
       "      dtype='object')"
      ]
     },
     "execution_count": 19,
     "metadata": {},
     "output_type": "execute_result"
    }
   ],
   "source": [
    "partner.columns"
   ]
  },
  {
   "cell_type": "code",
   "execution_count": 19,
   "id": "e470fd61",
   "metadata": {},
   "outputs": [
    {
     "data": {
      "text/html": [
       "<div>\n",
       "<style scoped>\n",
       "    .dataframe tbody tr th:only-of-type {\n",
       "        vertical-align: middle;\n",
       "    }\n",
       "\n",
       "    .dataframe tbody tr th {\n",
       "        vertical-align: top;\n",
       "    }\n",
       "\n",
       "    .dataframe thead th {\n",
       "        text-align: right;\n",
       "    }\n",
       "</style>\n",
       "<table border=\"1\" class=\"dataframe\">\n",
       "  <thead>\n",
       "    <tr style=\"text-align: right;\">\n",
       "      <th></th>\n",
       "      <th>PARTNER_ID</th>\n",
       "      <th>SL_POLITISCHES_SITZLAND</th>\n",
       "      <th>SL_LEGAL_COUNTRY_ISO_3166_1_A2</th>\n",
       "    </tr>\n",
       "  </thead>\n",
       "  <tbody>\n",
       "    <tr>\n",
       "      <th>0</th>\n",
       "      <td>24045513</td>\n",
       "      <td>IE</td>\n",
       "      <td>IE</td>\n",
       "    </tr>\n",
       "    <tr>\n",
       "      <th>1</th>\n",
       "      <td>24038001</td>\n",
       "      <td>BE</td>\n",
       "      <td>BE</td>\n",
       "    </tr>\n",
       "    <tr>\n",
       "      <th>2</th>\n",
       "      <td>24053273</td>\n",
       "      <td>XIO</td>\n",
       "      <td>LU</td>\n",
       "    </tr>\n",
       "    <tr>\n",
       "      <th>3</th>\n",
       "      <td>87010403</td>\n",
       "      <td>DE</td>\n",
       "      <td>CH</td>\n",
       "    </tr>\n",
       "    <tr>\n",
       "      <th>4</th>\n",
       "      <td>23670755</td>\n",
       "      <td>NL</td>\n",
       "      <td>NL</td>\n",
       "    </tr>\n",
       "  </tbody>\n",
       "</table>\n",
       "</div>"
      ],
      "text/plain": [
       "   PARTNER_ID SL_POLITISCHES_SITZLAND SL_LEGAL_COUNTRY_ISO_3166_1_A2\n",
       "0    24045513                     IE                              IE\n",
       "1    24038001                     BE                              BE\n",
       "2    24053273                     XIO                             LU\n",
       "3    87010403                     DE                              CH\n",
       "4    23670755                     NL                              NL"
      ]
     },
     "execution_count": 19,
     "metadata": {},
     "output_type": "execute_result"
    }
   ],
   "source": [
    "# After having identified the columns containing the country codes per counterparty, I create a subset\n",
    "# of the table partner called \"CPTY_Country_codes\". I will need this to merge it with GDP information\n",
    "# per country  during the COVID pandemic.\n",
    "CPTY_Country_codes = partner[[\"PARTNER_ID\", 'SL_POLITISCHES_SITZLAND', 'SL_LEGAL_COUNTRY_ISO_3166_1_A2']]\n",
    "CPTY_Country_codes.head()"
   ]
  },
  {
   "cell_type": "code",
   "execution_count": 20,
   "id": "26408ea3",
   "metadata": {},
   "outputs": [
    {
     "data": {
      "text/plain": [
       "(76, 3)"
      ]
     },
     "execution_count": 20,
     "metadata": {},
     "output_type": "execute_result"
    }
   ],
   "source": [
    "CPTY_Country_codes.shape"
   ]
  },
  {
   "cell_type": "code",
   "execution_count": 21,
   "id": "13a0ed50",
   "metadata": {},
   "outputs": [
    {
     "data": {
      "text/plain": [
       "PARTNER_ID                         int64\n",
       "SL_POLITISCHES_SITZLAND           object\n",
       "SL_LEGAL_COUNTRY_ISO_3166_1_A2    object\n",
       "dtype: object"
      ]
     },
     "execution_count": 21,
     "metadata": {},
     "output_type": "execute_result"
    }
   ],
   "source": [
    "CPTY_Country_codes.dtypes"
   ]
  },
  {
   "cell_type": "code",
   "execution_count": 22,
   "id": "4e0d8bbe",
   "metadata": {},
   "outputs": [
    {
     "name": "stderr",
     "output_type": "stream",
     "text": [
      "<ipython-input-22-143d4bb2144e>:1: SettingWithCopyWarning: \n",
      "A value is trying to be set on a copy of a slice from a DataFrame.\n",
      "Try using .loc[row_indexer,col_indexer] = value instead\n",
      "\n",
      "See the caveats in the documentation: https://pandas.pydata.org/pandas-docs/stable/user_guide/indexing.html#returning-a-view-versus-a-copy\n",
      "  CPTY_Country_codes[\"PARTNER_ID\"] = CPTY_Country_codes[\"PARTNER_ID\"].astype(str)\n"
     ]
    }
   ],
   "source": [
    "CPTY_Country_codes[\"PARTNER_ID\"] = CPTY_Country_codes[\"PARTNER_ID\"].astype(str)"
   ]
  },
  {
   "cell_type": "code",
   "execution_count": 23,
   "id": "c818d669",
   "metadata": {
    "scrolled": true
   },
   "outputs": [
    {
     "data": {
      "text/plain": [
       "PARTNER_ID                        object\n",
       "SL_POLITISCHES_SITZLAND           object\n",
       "SL_LEGAL_COUNTRY_ISO_3166_1_A2    object\n",
       "dtype: object"
      ]
     },
     "execution_count": 23,
     "metadata": {},
     "output_type": "execute_result"
    }
   ],
   "source": [
    "CPTY_Country_codes.dtypes"
   ]
  },
  {
   "cell_type": "code",
   "execution_count": 25,
   "id": "41ab2fb6",
   "metadata": {},
   "outputs": [],
   "source": [
    "import matplotlib.pyplot as plt\n",
    "import seaborn as sns"
   ]
  },
  {
   "cell_type": "code",
   "execution_count": 27,
   "id": "28aff182",
   "metadata": {},
   "outputs": [
    {
     "data": {
      "text/plain": [
       "<AxesSubplot:xlabel='count', ylabel='SL_POLITISCHES_SITZLAND'>"
      ]
     },
     "execution_count": 27,
     "metadata": {},
     "output_type": "execute_result"
    },
    {
     "data": {
      "image/png": "[encoded data removed]",
      "text/plain": [
       "<Figure size 432x288 with 1 Axes>"
      ]
     },
     "metadata": {
      "needs_background": "light"
     },
     "output_type": "display_data"
    }
   ],
   "source": [
    "sns.countplot(data=CPTY_Country_codes, y=\"SL_POLITISCHES_SITZLAND\")"
   ]
  },
  {
   "cell_type": "code",
   "execution_count": 28,
   "id": "0eeb995f",
   "metadata": {},
   "outputs": [
    {
     "name": "stderr",
     "output_type": "stream",
     "text": [
      "C:\\ProgramData\\Anaconda3\\lib\\site-packages\\pandas\\core\\frame.py:4441: SettingWithCopyWarning: \n",
      "A value is trying to be set on a copy of a slice from a DataFrame\n",
      "\n",
      "See the caveats in the documentation: https://pandas.pydata.org/pandas-docs/stable/user_guide/indexing.html#returning-a-view-versus-a-copy\n",
      "  return super().rename(\n"
     ]
    },
    {
     "data": {
      "text/html": [
       "<div>\n",
       "<style scoped>\n",
       "    .dataframe tbody tr th:only-of-type {\n",
       "        vertical-align: middle;\n",
       "    }\n",
       "\n",
       "    .dataframe tbody tr th {\n",
       "        vertical-align: top;\n",
       "    }\n",
       "\n",
       "    .dataframe thead th {\n",
       "        text-align: right;\n",
       "    }\n",
       "</style>\n",
       "<table border=\"1\" class=\"dataframe\">\n",
       "  <thead>\n",
       "    <tr style=\"text-align: right;\">\n",
       "      <th></th>\n",
       "      <th>PARTNER_ID</th>\n",
       "      <th>COUNTRY_OF_RISK</th>\n",
       "      <th>LEGAL_COUNTRY</th>\n",
       "    </tr>\n",
       "  </thead>\n",
       "  <tbody>\n",
       "    <tr>\n",
       "      <th>0</th>\n",
       "      <td>24045513</td>\n",
       "      <td>IE</td>\n",
       "      <td>IE</td>\n",
       "    </tr>\n",
       "    <tr>\n",
       "      <th>1</th>\n",
       "      <td>24038001</td>\n",
       "      <td>BE</td>\n",
       "      <td>BE</td>\n",
       "    </tr>\n",
       "    <tr>\n",
       "      <th>2</th>\n",
       "      <td>24053273</td>\n",
       "      <td>XIO</td>\n",
       "      <td>LU</td>\n",
       "    </tr>\n",
       "    <tr>\n",
       "      <th>3</th>\n",
       "      <td>87010403</td>\n",
       "      <td>DE</td>\n",
       "      <td>CH</td>\n",
       "    </tr>\n",
       "    <tr>\n",
       "      <th>4</th>\n",
       "      <td>23670755</td>\n",
       "      <td>NL</td>\n",
       "      <td>NL</td>\n",
       "    </tr>\n",
       "  </tbody>\n",
       "</table>\n",
       "</div>"
      ],
      "text/plain": [
       "  PARTNER_ID COUNTRY_OF_RISK LEGAL_COUNTRY\n",
       "0   24045513             IE             IE\n",
       "1   24038001             BE             BE\n",
       "2   24053273             XIO            LU\n",
       "3   87010403             DE             CH\n",
       "4   23670755             NL             NL"
      ]
     },
     "execution_count": 28,
     "metadata": {},
     "output_type": "execute_result"
    }
   ],
   "source": [
    "CPTY_Country_codes.rename(columns={\"SL_POLITISCHES_SITZLAND\": \"COUNTRY_OF_RISK\", \"SL_LEGAL_COUNTRY_ISO_3166_1_A2\" : \"LEGAL_COUNTRY\"}, inplace=True)\n",
    "CPTY_Country_codes.head()"
   ]
  },
  {
   "cell_type": "code",
   "execution_count": 41,
   "id": "76ac6e35",
   "metadata": {},
   "outputs": [
    {
     "data": {
      "text/plain": [
       "'0000000000000000000000000000000000000000000000000000000000000000000000000000'"
      ]
     },
     "execution_count": 41,
     "metadata": {},
     "output_type": "execute_result"
    }
   ],
   "source": [
    "CPTY_Country_codes[\"Diff\"].sum()"
   ]
  },
  {
   "cell_type": "code",
   "execution_count": 29,
   "id": "156551af",
   "metadata": {},
   "outputs": [
    {
     "data": {
      "text/html": [
       "<div>\n",
       "<style scoped>\n",
       "    .dataframe tbody tr th:only-of-type {\n",
       "        vertical-align: middle;\n",
       "    }\n",
       "\n",
       "    .dataframe tbody tr th {\n",
       "        vertical-align: top;\n",
       "    }\n",
       "\n",
       "    .dataframe thead th {\n",
       "        text-align: right;\n",
       "    }\n",
       "</style>\n",
       "<table border=\"1\" class=\"dataframe\">\n",
       "  <thead>\n",
       "    <tr style=\"text-align: right;\">\n",
       "      <th></th>\n",
       "      <th>REPORTING_DATE</th>\n",
       "      <th>PARTNER_ID</th>\n",
       "      <th>TRANSACTION_ID</th>\n",
       "      <th>EAD1Y</th>\n",
       "      <th>EXPECTED_LOSS_1Y</th>\n",
       "      <th>PD1Y</th>\n",
       "      <th>KEY_LOW_CREDIT_RISK_EXEMPTION</th>\n",
       "      <th>ORIGINAL_RATING</th>\n",
       "      <th>ORIG_RATING_AT_INCEPTION</th>\n",
       "      <th>COUNTRY_OF_RISK</th>\n",
       "      <th>LEGAL_COUNTRY</th>\n",
       "    </tr>\n",
       "  </thead>\n",
       "  <tbody>\n",
       "    <tr>\n",
       "      <th>0</th>\n",
       "      <td>2019-09-30</td>\n",
       "      <td>24036126</td>\n",
       "      <td>24036126_REPO</td>\n",
       "      <td>3.359181e+05</td>\n",
       "      <td>156.94</td>\n",
       "      <td>0.001221</td>\n",
       "      <td>N</td>\n",
       "      <td>B5</td>\n",
       "      <td>B5</td>\n",
       "      <td>FR</td>\n",
       "      <td>FR</td>\n",
       "    </tr>\n",
       "    <tr>\n",
       "      <th>1</th>\n",
       "      <td>2019-09-30</td>\n",
       "      <td>24037558</td>\n",
       "      <td>24037558_REPO</td>\n",
       "      <td>1.211426e+07</td>\n",
       "      <td>6042.41</td>\n",
       "      <td>0.001601</td>\n",
       "      <td>N</td>\n",
       "      <td>B6</td>\n",
       "      <td>B6</td>\n",
       "      <td>DE</td>\n",
       "      <td>DE</td>\n",
       "    </tr>\n",
       "    <tr>\n",
       "      <th>2</th>\n",
       "      <td>2019-09-30</td>\n",
       "      <td>24038130</td>\n",
       "      <td>24038130_REPO</td>\n",
       "      <td>1.476728e+05</td>\n",
       "      <td>171.94</td>\n",
       "      <td>0.002555</td>\n",
       "      <td>N</td>\n",
       "      <td>B8</td>\n",
       "      <td>B8</td>\n",
       "      <td>IT</td>\n",
       "      <td>IT</td>\n",
       "    </tr>\n",
       "    <tr>\n",
       "      <th>3</th>\n",
       "      <td>2019-09-30</td>\n",
       "      <td>24081965</td>\n",
       "      <td>24081965_REPO</td>\n",
       "      <td>8.414928e+05</td>\n",
       "      <td>419.59</td>\n",
       "      <td>0.001240</td>\n",
       "      <td>N</td>\n",
       "      <td>B5</td>\n",
       "      <td>B5</td>\n",
       "      <td>FR</td>\n",
       "      <td>FR</td>\n",
       "    </tr>\n",
       "    <tr>\n",
       "      <th>4</th>\n",
       "      <td>2019-09-30</td>\n",
       "      <td>30374682</td>\n",
       "      <td>30374682_REPO</td>\n",
       "      <td>1.032456e+08</td>\n",
       "      <td>91134.62</td>\n",
       "      <td>0.002076</td>\n",
       "      <td>N</td>\n",
       "      <td>B7</td>\n",
       "      <td>B7</td>\n",
       "      <td>IT</td>\n",
       "      <td>IT</td>\n",
       "    </tr>\n",
       "  </tbody>\n",
       "</table>\n",
       "</div>"
      ],
      "text/plain": [
       "  REPORTING_DATE PARTNER_ID TRANSACTION_ID         EAD1Y  EXPECTED_LOSS_1Y  \\\n",
       "0     2019-09-30   24036126  24036126_REPO  3.359181e+05            156.94   \n",
       "1     2019-09-30   24037558  24037558_REPO  1.211426e+07           6042.41   \n",
       "2     2019-09-30   24038130  24038130_REPO  1.476728e+05            171.94   \n",
       "3     2019-09-30   24081965  24081965_REPO  8.414928e+05            419.59   \n",
       "4     2019-09-30   30374682  30374682_REPO  1.032456e+08          91134.62   \n",
       "\n",
       "       PD1Y KEY_LOW_CREDIT_RISK_EXEMPTION ORIGINAL_RATING  \\\n",
       "0  0.001221                           N                B5   \n",
       "1  0.001601                           N                B6   \n",
       "2  0.002555                           N                B8   \n",
       "3  0.001240                           N                B5   \n",
       "4  0.002076                           N                B7   \n",
       "\n",
       "  ORIG_RATING_AT_INCEPTION COUNTRY_OF_RISK LEGAL_COUNTRY  \n",
       "0                       B5             FR             FR  \n",
       "1                       B6             DE             DE  \n",
       "2                       B8             IT             IT  \n",
       "3                       B5             FR             FR  \n",
       "4                       B7             IT             IT  "
      ]
     },
     "execution_count": 29,
     "metadata": {},
     "output_type": "execute_result"
    }
   ],
   "source": [
    "ECL_Study_CPTY_Country_Codes = ECL_study.merge(CPTY_Country_codes, how=\"left\")\n",
    "ECL_Study_CPTY_Country_Codes.head()"
   ]
  },
  {
   "cell_type": "code",
   "execution_count": 39,
   "id": "4523336d",
   "metadata": {},
   "outputs": [
    {
     "data": {
      "text/plain": [
       "(1593, 11)"
      ]
     },
     "execution_count": 39,
     "metadata": {},
     "output_type": "execute_result"
    }
   ],
   "source": [
    "ECL_Study_CPTY_Country_Codes.shape"
   ]
  },
  {
   "cell_type": "code",
   "execution_count": 41,
   "id": "6d6f4070",
   "metadata": {},
   "outputs": [
    {
     "data": {
      "text/plain": [
       "REPORTING_DATE                    datetime64[ns]\n",
       "PARTNER_ID                                object\n",
       "TRANSACTION_ID                            object\n",
       "EAD1Y                                    float64\n",
       "EXPECTED_LOSS_1Y                         float64\n",
       "PD1Y                                     float64\n",
       "KEY_LOW_CREDIT_RISK_EXEMPTION             object\n",
       "ORIGINAL_RATING                           object\n",
       "ORIG_RATING_AT_INCEPTION                  object\n",
       "SL_POLITISCHES_SITZLAND                   object\n",
       "SL_LEGAL_COUNTRY_ISO_3166_1_A2            object\n",
       "dtype: object"
      ]
     },
     "execution_count": 41,
     "metadata": {},
     "output_type": "execute_result"
    }
   ],
   "source": [
    "ECL_Study_CPTY_Country_Codes.dtypes"
   ]
  },
  {
   "cell_type": "code",
   "execution_count": 30,
   "id": "34687ea0",
   "metadata": {},
   "outputs": [
    {
     "data": {
      "text/html": [
       "<div>\n",
       "<style scoped>\n",
       "    .dataframe tbody tr th:only-of-type {\n",
       "        vertical-align: middle;\n",
       "    }\n",
       "\n",
       "    .dataframe tbody tr th {\n",
       "        vertical-align: top;\n",
       "    }\n",
       "\n",
       "    .dataframe thead th {\n",
       "        text-align: right;\n",
       "    }\n",
       "</style>\n",
       "<table border=\"1\" class=\"dataframe\">\n",
       "  <thead>\n",
       "    <tr style=\"text-align: right;\">\n",
       "      <th></th>\n",
       "      <th>REPORTING_DATE</th>\n",
       "      <th>PARTNER_ID</th>\n",
       "      <th>TRANSACTION_ID</th>\n",
       "      <th>EAD1Y</th>\n",
       "      <th>EXPECTED_LOSS_1Y</th>\n",
       "      <th>PD1Y</th>\n",
       "      <th>KEY_LOW_CREDIT_RISK_EXEMPTION</th>\n",
       "      <th>ORIGINAL_RATING</th>\n",
       "      <th>ORIG_RATING_AT_INCEPTION</th>\n",
       "      <th>COUNTRY_OF_RISK</th>\n",
       "      <th>LEGAL_COUNTRY</th>\n",
       "      <th>EL_1Y/EAD_1Y</th>\n",
       "    </tr>\n",
       "  </thead>\n",
       "  <tbody>\n",
       "    <tr>\n",
       "      <th>0</th>\n",
       "      <td>2019-09-30</td>\n",
       "      <td>24036126</td>\n",
       "      <td>24036126_REPO</td>\n",
       "      <td>3.359181e+05</td>\n",
       "      <td>156.94</td>\n",
       "      <td>0.001221</td>\n",
       "      <td>N</td>\n",
       "      <td>B5</td>\n",
       "      <td>B5</td>\n",
       "      <td>FR</td>\n",
       "      <td>FR</td>\n",
       "      <td>4.671972</td>\n",
       "    </tr>\n",
       "    <tr>\n",
       "      <th>1</th>\n",
       "      <td>2019-09-30</td>\n",
       "      <td>24037558</td>\n",
       "      <td>24037558_REPO</td>\n",
       "      <td>1.211426e+07</td>\n",
       "      <td>6042.41</td>\n",
       "      <td>0.001601</td>\n",
       "      <td>N</td>\n",
       "      <td>B6</td>\n",
       "      <td>B6</td>\n",
       "      <td>DE</td>\n",
       "      <td>DE</td>\n",
       "      <td>4.987851</td>\n",
       "    </tr>\n",
       "    <tr>\n",
       "      <th>2</th>\n",
       "      <td>2019-09-30</td>\n",
       "      <td>24038130</td>\n",
       "      <td>24038130_REPO</td>\n",
       "      <td>1.476728e+05</td>\n",
       "      <td>171.94</td>\n",
       "      <td>0.002555</td>\n",
       "      <td>N</td>\n",
       "      <td>B8</td>\n",
       "      <td>B8</td>\n",
       "      <td>IT</td>\n",
       "      <td>IT</td>\n",
       "      <td>11.643306</td>\n",
       "    </tr>\n",
       "    <tr>\n",
       "      <th>3</th>\n",
       "      <td>2019-09-30</td>\n",
       "      <td>24081965</td>\n",
       "      <td>24081965_REPO</td>\n",
       "      <td>8.414928e+05</td>\n",
       "      <td>419.59</td>\n",
       "      <td>0.001240</td>\n",
       "      <td>N</td>\n",
       "      <td>B5</td>\n",
       "      <td>B5</td>\n",
       "      <td>FR</td>\n",
       "      <td>FR</td>\n",
       "      <td>4.986258</td>\n",
       "    </tr>\n",
       "    <tr>\n",
       "      <th>4</th>\n",
       "      <td>2019-09-30</td>\n",
       "      <td>30374682</td>\n",
       "      <td>30374682_REPO</td>\n",
       "      <td>1.032456e+08</td>\n",
       "      <td>91134.62</td>\n",
       "      <td>0.002076</td>\n",
       "      <td>N</td>\n",
       "      <td>B7</td>\n",
       "      <td>B7</td>\n",
       "      <td>IT</td>\n",
       "      <td>IT</td>\n",
       "      <td>8.826970</td>\n",
       "    </tr>\n",
       "  </tbody>\n",
       "</table>\n",
       "</div>"
      ],
      "text/plain": [
       "  REPORTING_DATE PARTNER_ID TRANSACTION_ID         EAD1Y  EXPECTED_LOSS_1Y  \\\n",
       "0     2019-09-30   24036126  24036126_REPO  3.359181e+05            156.94   \n",
       "1     2019-09-30   24037558  24037558_REPO  1.211426e+07           6042.41   \n",
       "2     2019-09-30   24038130  24038130_REPO  1.476728e+05            171.94   \n",
       "3     2019-09-30   24081965  24081965_REPO  8.414928e+05            419.59   \n",
       "4     2019-09-30   30374682  30374682_REPO  1.032456e+08          91134.62   \n",
       "\n",
       "       PD1Y KEY_LOW_CREDIT_RISK_EXEMPTION ORIGINAL_RATING  \\\n",
       "0  0.001221                           N                B5   \n",
       "1  0.001601                           N                B6   \n",
       "2  0.002555                           N                B8   \n",
       "3  0.001240                           N                B5   \n",
       "4  0.002076                           N                B7   \n",
       "\n",
       "  ORIG_RATING_AT_INCEPTION COUNTRY_OF_RISK LEGAL_COUNTRY  EL_1Y/EAD_1Y  \n",
       "0                       B5             FR             FR      4.671972  \n",
       "1                       B6             DE             DE      4.987851  \n",
       "2                       B8             IT             IT     11.643306  \n",
       "3                       B5             FR             FR      4.986258  \n",
       "4                       B7             IT             IT      8.826970  "
      ]
     },
     "execution_count": 30,
     "metadata": {},
     "output_type": "execute_result"
    }
   ],
   "source": [
    "ECL_Study_CPTY_Country_Codes[\"EL_1Y/EAD_1Y\"] = ECL_Study_CPTY_Country_Codes[\"EXPECTED_LOSS_1Y\"]/ECL_Study_CPTY_Country_Codes[\"EAD1Y\"]*10000\n",
    "ECL_Study_CPTY_Country_Codes.head()"
   ]
  },
  {
   "cell_type": "code",
   "execution_count": 31,
   "id": "d497cefa",
   "metadata": {},
   "outputs": [
    {
     "data": {
      "text/html": [
       "<div>\n",
       "<style scoped>\n",
       "    .dataframe tbody tr th:only-of-type {\n",
       "        vertical-align: middle;\n",
       "    }\n",
       "\n",
       "    .dataframe tbody tr th {\n",
       "        vertical-align: top;\n",
       "    }\n",
       "\n",
       "    .dataframe thead th {\n",
       "        text-align: right;\n",
       "    }\n",
       "</style>\n",
       "<table border=\"1\" class=\"dataframe\">\n",
       "  <thead>\n",
       "    <tr style=\"text-align: right;\">\n",
       "      <th></th>\n",
       "      <th>EAD1Y</th>\n",
       "      <th>EXPECTED_LOSS_1Y</th>\n",
       "      <th>PD1Y</th>\n",
       "      <th>EL_1Y/EAD_1Y</th>\n",
       "    </tr>\n",
       "  </thead>\n",
       "  <tbody>\n",
       "    <tr>\n",
       "      <th>EAD1Y</th>\n",
       "      <td>1.000000</td>\n",
       "      <td>0.808955</td>\n",
       "      <td>0.250511</td>\n",
       "      <td>0.348635</td>\n",
       "    </tr>\n",
       "    <tr>\n",
       "      <th>EXPECTED_LOSS_1Y</th>\n",
       "      <td>0.808955</td>\n",
       "      <td>1.000000</td>\n",
       "      <td>0.424864</td>\n",
       "      <td>0.562676</td>\n",
       "    </tr>\n",
       "    <tr>\n",
       "      <th>PD1Y</th>\n",
       "      <td>0.250511</td>\n",
       "      <td>0.424864</td>\n",
       "      <td>1.000000</td>\n",
       "      <td>0.931470</td>\n",
       "    </tr>\n",
       "    <tr>\n",
       "      <th>EL_1Y/EAD_1Y</th>\n",
       "      <td>0.348635</td>\n",
       "      <td>0.562676</td>\n",
       "      <td>0.931470</td>\n",
       "      <td>1.000000</td>\n",
       "    </tr>\n",
       "  </tbody>\n",
       "</table>\n",
       "</div>"
      ],
      "text/plain": [
       "                     EAD1Y  EXPECTED_LOSS_1Y      PD1Y  EL_1Y/EAD_1Y\n",
       "EAD1Y             1.000000          0.808955  0.250511      0.348635\n",
       "EXPECTED_LOSS_1Y  0.808955          1.000000  0.424864      0.562676\n",
       "PD1Y              0.250511          0.424864  1.000000      0.931470\n",
       "EL_1Y/EAD_1Y      0.348635          0.562676  0.931470      1.000000"
      ]
     },
     "execution_count": 31,
     "metadata": {},
     "output_type": "execute_result"
    }
   ],
   "source": [
    "ECL_Study_CPTY_Country_Codes.corr()\n"
   ]
  },
  {
   "cell_type": "code",
   "execution_count": 79,
   "id": "42709b13",
   "metadata": {},
   "outputs": [
    {
     "name": "stdout",
     "output_type": "stream",
     "text": [
      "                                  EAD1Y  EXPECTED_LOSS_1Y      PD1Y  \\\n",
      "REPORTING_DATE PARTNER_ID                                             \n",
      "2019-09-30     1432750     2.252832e+08     236550.050000  0.001739   \n",
      "               17461434    4.529688e+07      69066.430000  0.001908   \n",
      "               1754026     8.539845e+06       4609.245000  0.001212   \n",
      "               19854145    2.089427e+07       1956.336667  0.000899   \n",
      "               24030685    1.115781e+06         96.690000  0.000512   \n",
      "...                                 ...               ...       ...   \n",
      "2021-06-30     34944058    1.584438e+07        130.022000  0.000027   \n",
      "               36624468    2.163111e+07         88.475714  0.000012   \n",
      "               39582211    2.144934e+07       1877.840000  0.000969   \n",
      "               84785786    1.082811e+07        261.910000  0.000278   \n",
      "               9132323     8.079198e+07      14632.286316  0.000470   \n",
      "\n",
      "                           EL_1Y/EAD_1Y  \n",
      "REPORTING_DATE PARTNER_ID                \n",
      "2019-09-30     1432750        10.520647  \n",
      "               17461434       15.247504  \n",
      "               1754026         5.397341  \n",
      "               19854145        0.936302  \n",
      "               24030685        0.866568  \n",
      "...                                 ...  \n",
      "2021-06-30     34944058        0.082108  \n",
      "               36624468        0.041057  \n",
      "               39582211        0.875477  \n",
      "               84785786        0.241880  \n",
      "               9132323         1.654172  \n",
      "\n",
      "[267 rows x 4 columns]\n"
     ]
    }
   ],
   "source": [
    "#groupby Date and counterparty\n",
    "ECL_Grouped = ECL_Study_CPTY_Country_Codes.groupby([\"REPORTING_DATE\", \"PARTNER_ID\"]).mean()\n",
    "print(ECL_Grouped)"
   ]
  },
  {
   "cell_type": "code",
   "execution_count": 32,
   "id": "c16f1ec0",
   "metadata": {},
   "outputs": [
    {
     "data": {
      "image/png": "[encoded data removed]",
      "text/plain": [
       "<Figure size 432x288 with 1 Axes>"
      ]
     },
     "metadata": {
      "needs_background": "light"
     },
     "output_type": "display_data"
    }
   ],
   "source": [
    "g = sns.barplot(data=ECL_Study_CPTY_Country_Codes, x=\"REPORTING_DATE\", y=\"EXPECTED_LOSS_1Y\")\n",
    "plt.xticks(rotation=90);"
   ]
  },
  {
   "cell_type": "code",
   "execution_count": null,
   "id": "213d71f5",
   "metadata": {},
   "outputs": [],
   "source": []
  }
 ],
 "metadata": {
  "kernelspec": {
   "display_name": "Python 3",
   "language": "python",
   "name": "python3"
  },
  "language_info": {
   "codemirror_mode": {
    "name": "ipython",
    "version": 3
   },
   "file_extension": ".py",
   "mimetype": "text/x-python",
   "name": "python",
   "nbconvert_exporter": "python",
   "pygments_lexer": "ipython3",
   "version": "3.8.8"
  }
 },
 "nbformat": 4,
 "nbformat_minor": 5
}
